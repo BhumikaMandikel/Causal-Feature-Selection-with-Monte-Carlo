{
  "nbformat": 4,
  "nbformat_minor": 0,
  "metadata": {
    "colab": {
      "provenance": []
    },
    "kernelspec": {
      "name": "python3",
      "display_name": "Python 3"
    },
    "language_info": {
      "name": "python"
    }
  },
  "cells": [
    {
      "cell_type": "markdown",
      "source": [
        "**Installing the packages and dependancies for the project**\n",
        "#----------------------------------------------------------"
      ],
      "metadata": {
        "id": "1ws4H4gPxC8x"
      }
    },
    {
      "cell_type": "code",
      "source": [
        "!pip install torch torch-geometric\n",
        "!pip install dowhy\n",
        "!pip install networkx"
      ],
      "metadata": {
        "colab": {
          "base_uri": "https://localhost:8080/"
        },
        "id": "NGdwkLvSxOrP",
        "outputId": "e8dc1dbf-b553-40c3-95f4-604b79bfa9aa"
      },
      "execution_count": null,
      "outputs": [
        {
          "output_type": "stream",
          "name": "stdout",
          "text": [
            "Requirement already satisfied: torch in /usr/local/lib/python3.10/dist-packages (2.5.1+cu121)\n",
            "Collecting torch-geometric\n",
            "  Downloading torch_geometric-2.6.1-py3-none-any.whl.metadata (63 kB)\n",
            "\u001b[?25l     \u001b[90m━━━━━━━━━━━━━━━━━━━━━━━━━━━━━━━━━━━━━━━━\u001b[0m \u001b[32m0.0/63.1 kB\u001b[0m \u001b[31m?\u001b[0m eta \u001b[36m-:--:--\u001b[0m\r\u001b[2K     \u001b[90m━━━━━━━━━━━━━━━━━━━━━━━━━━━━━━━━━━━━━━━━\u001b[0m \u001b[32m63.1/63.1 kB\u001b[0m \u001b[31m4.9 MB/s\u001b[0m eta \u001b[36m0:00:00\u001b[0m\n",
            "\u001b[?25hRequirement already satisfied: filelock in /usr/local/lib/python3.10/dist-packages (from torch) (3.16.1)\n",
            "Requirement already satisfied: typing-extensions>=4.8.0 in /usr/local/lib/python3.10/dist-packages (from torch) (4.12.2)\n",
            "Requirement already satisfied: networkx in /usr/local/lib/python3.10/dist-packages (from torch) (3.4.2)\n",
            "Requirement already satisfied: jinja2 in /usr/local/lib/python3.10/dist-packages (from torch) (3.1.4)\n",
            "Requirement already satisfied: fsspec in /usr/local/lib/python3.10/dist-packages (from torch) (2024.10.0)\n",
            "Requirement already satisfied: sympy==1.13.1 in /usr/local/lib/python3.10/dist-packages (from torch) (1.13.1)\n",
            "Requirement already satisfied: mpmath<1.4,>=1.1.0 in /usr/local/lib/python3.10/dist-packages (from sympy==1.13.1->torch) (1.3.0)\n",
            "Requirement already satisfied: aiohttp in /usr/local/lib/python3.10/dist-packages (from torch-geometric) (3.10.10)\n",
            "Requirement already satisfied: numpy in /usr/local/lib/python3.10/dist-packages (from torch-geometric) (1.26.4)\n",
            "Requirement already satisfied: psutil>=5.8.0 in /usr/local/lib/python3.10/dist-packages (from torch-geometric) (5.9.5)\n",
            "Requirement already satisfied: pyparsing in /usr/local/lib/python3.10/dist-packages (from torch-geometric) (3.2.0)\n",
            "Requirement already satisfied: requests in /usr/local/lib/python3.10/dist-packages (from torch-geometric) (2.32.3)\n",
            "Requirement already satisfied: tqdm in /usr/local/lib/python3.10/dist-packages (from torch-geometric) (4.66.6)\n",
            "Requirement already satisfied: aiohappyeyeballs>=2.3.0 in /usr/local/lib/python3.10/dist-packages (from aiohttp->torch-geometric) (2.4.3)\n",
            "Requirement already satisfied: aiosignal>=1.1.2 in /usr/local/lib/python3.10/dist-packages (from aiohttp->torch-geometric) (1.3.1)\n",
            "Requirement already satisfied: attrs>=17.3.0 in /usr/local/lib/python3.10/dist-packages (from aiohttp->torch-geometric) (24.2.0)\n",
            "Requirement already satisfied: frozenlist>=1.1.1 in /usr/local/lib/python3.10/dist-packages (from aiohttp->torch-geometric) (1.5.0)\n",
            "Requirement already satisfied: multidict<7.0,>=4.5 in /usr/local/lib/python3.10/dist-packages (from aiohttp->torch-geometric) (6.1.0)\n",
            "Requirement already satisfied: yarl<2.0,>=1.12.0 in /usr/local/lib/python3.10/dist-packages (from aiohttp->torch-geometric) (1.17.1)\n",
            "Requirement already satisfied: async-timeout<5.0,>=4.0 in /usr/local/lib/python3.10/dist-packages (from aiohttp->torch-geometric) (4.0.3)\n",
            "Requirement already satisfied: MarkupSafe>=2.0 in /usr/local/lib/python3.10/dist-packages (from jinja2->torch) (3.0.2)\n",
            "Requirement already satisfied: charset-normalizer<4,>=2 in /usr/local/lib/python3.10/dist-packages (from requests->torch-geometric) (3.4.0)\n",
            "Requirement already satisfied: idna<4,>=2.5 in /usr/local/lib/python3.10/dist-packages (from requests->torch-geometric) (3.10)\n",
            "Requirement already satisfied: urllib3<3,>=1.21.1 in /usr/local/lib/python3.10/dist-packages (from requests->torch-geometric) (2.2.3)\n",
            "Requirement already satisfied: certifi>=2017.4.17 in /usr/local/lib/python3.10/dist-packages (from requests->torch-geometric) (2024.8.30)\n",
            "Requirement already satisfied: propcache>=0.2.0 in /usr/local/lib/python3.10/dist-packages (from yarl<2.0,>=1.12.0->aiohttp->torch-geometric) (0.2.0)\n",
            "Downloading torch_geometric-2.6.1-py3-none-any.whl (1.1 MB)\n",
            "\u001b[2K   \u001b[90m━━━━━━━━━━━━━━━━━━━━━━━━━━━━━━━━━━━━━━━━\u001b[0m \u001b[32m1.1/1.1 MB\u001b[0m \u001b[31m49.1 MB/s\u001b[0m eta \u001b[36m0:00:00\u001b[0m\n",
            "\u001b[?25hInstalling collected packages: torch-geometric\n",
            "Successfully installed torch-geometric-2.6.1\n",
            "Collecting dowhy\n",
            "  Downloading dowhy-0.11.1-py3-none-any.whl.metadata (17 kB)\n",
            "Collecting causal-learn>=0.1.3.0 (from dowhy)\n",
            "  Downloading causal_learn-0.1.3.8-py3-none-any.whl.metadata (4.2 kB)\n",
            "Requirement already satisfied: cvxpy<2.0.0,>=1.2.2 in /usr/local/lib/python3.10/dist-packages (from dowhy) (1.5.3)\n",
            "Requirement already satisfied: cython>=0.29.32 in /usr/local/lib/python3.10/dist-packages (from dowhy) (3.0.11)\n",
            "Requirement already satisfied: joblib>=1.1.0 in /usr/local/lib/python3.10/dist-packages (from dowhy) (1.4.2)\n",
            "Requirement already satisfied: networkx>=2.8.5 in /usr/local/lib/python3.10/dist-packages (from dowhy) (3.4.2)\n",
            "Requirement already satisfied: numpy>=1.20 in /usr/local/lib/python3.10/dist-packages (from dowhy) (1.26.4)\n",
            "Requirement already satisfied: pandas>=1.4.3 in /usr/local/lib/python3.10/dist-packages (from dowhy) (2.2.2)\n",
            "Requirement already satisfied: scikit-learn>1.0 in /usr/local/lib/python3.10/dist-packages (from dowhy) (1.5.2)\n",
            "Requirement already satisfied: scipy>=1.4.1 in /usr/local/lib/python3.10/dist-packages (from dowhy) (1.13.1)\n",
            "Requirement already satisfied: statsmodels>=0.13.5 in /usr/local/lib/python3.10/dist-packages (from dowhy) (0.14.4)\n",
            "Requirement already satisfied: sympy>=1.10.1 in /usr/local/lib/python3.10/dist-packages (from dowhy) (1.13.1)\n",
            "Requirement already satisfied: tqdm>=4.64.0 in /usr/local/lib/python3.10/dist-packages (from dowhy) (4.66.6)\n",
            "Requirement already satisfied: graphviz in /usr/local/lib/python3.10/dist-packages (from causal-learn>=0.1.3.0->dowhy) (0.20.3)\n",
            "Requirement already satisfied: matplotlib in /usr/local/lib/python3.10/dist-packages (from causal-learn>=0.1.3.0->dowhy) (3.8.0)\n",
            "Requirement already satisfied: pydot in /usr/local/lib/python3.10/dist-packages (from causal-learn>=0.1.3.0->dowhy) (3.0.2)\n",
            "Requirement already satisfied: osqp>=0.6.2 in /usr/local/lib/python3.10/dist-packages (from cvxpy<2.0.0,>=1.2.2->dowhy) (0.6.7.post3)\n",
            "Requirement already satisfied: ecos>=2 in /usr/local/lib/python3.10/dist-packages (from cvxpy<2.0.0,>=1.2.2->dowhy) (2.0.14)\n",
            "Requirement already satisfied: clarabel>=0.5.0 in /usr/local/lib/python3.10/dist-packages (from cvxpy<2.0.0,>=1.2.2->dowhy) (0.9.0)\n",
            "Requirement already satisfied: scs>=3.2.4.post1 in /usr/local/lib/python3.10/dist-packages (from cvxpy<2.0.0,>=1.2.2->dowhy) (3.2.7)\n",
            "Requirement already satisfied: python-dateutil>=2.8.2 in /usr/local/lib/python3.10/dist-packages (from pandas>=1.4.3->dowhy) (2.8.2)\n",
            "Requirement already satisfied: pytz>=2020.1 in /usr/local/lib/python3.10/dist-packages (from pandas>=1.4.3->dowhy) (2024.2)\n",
            "Requirement already satisfied: tzdata>=2022.7 in /usr/local/lib/python3.10/dist-packages (from pandas>=1.4.3->dowhy) (2024.2)\n",
            "Requirement already satisfied: threadpoolctl>=3.1.0 in /usr/local/lib/python3.10/dist-packages (from scikit-learn>1.0->dowhy) (3.5.0)\n",
            "Requirement already satisfied: patsy>=0.5.6 in /usr/local/lib/python3.10/dist-packages (from statsmodels>=0.13.5->dowhy) (1.0.1)\n",
            "Requirement already satisfied: packaging>=21.3 in /usr/local/lib/python3.10/dist-packages (from statsmodels>=0.13.5->dowhy) (24.2)\n",
            "Requirement already satisfied: mpmath<1.4,>=1.1.0 in /usr/local/lib/python3.10/dist-packages (from sympy>=1.10.1->dowhy) (1.3.0)\n",
            "Requirement already satisfied: qdldl in /usr/local/lib/python3.10/dist-packages (from osqp>=0.6.2->cvxpy<2.0.0,>=1.2.2->dowhy) (0.1.7.post4)\n",
            "Requirement already satisfied: six>=1.5 in /usr/local/lib/python3.10/dist-packages (from python-dateutil>=2.8.2->pandas>=1.4.3->dowhy) (1.16.0)\n",
            "Requirement already satisfied: contourpy>=1.0.1 in /usr/local/lib/python3.10/dist-packages (from matplotlib->causal-learn>=0.1.3.0->dowhy) (1.3.1)\n",
            "Requirement already satisfied: cycler>=0.10 in /usr/local/lib/python3.10/dist-packages (from matplotlib->causal-learn>=0.1.3.0->dowhy) (0.12.1)\n",
            "Requirement already satisfied: fonttools>=4.22.0 in /usr/local/lib/python3.10/dist-packages (from matplotlib->causal-learn>=0.1.3.0->dowhy) (4.54.1)\n",
            "Requirement already satisfied: kiwisolver>=1.0.1 in /usr/local/lib/python3.10/dist-packages (from matplotlib->causal-learn>=0.1.3.0->dowhy) (1.4.7)\n",
            "Requirement already satisfied: pillow>=6.2.0 in /usr/local/lib/python3.10/dist-packages (from matplotlib->causal-learn>=0.1.3.0->dowhy) (11.0.0)\n",
            "Requirement already satisfied: pyparsing>=2.3.1 in /usr/local/lib/python3.10/dist-packages (from matplotlib->causal-learn>=0.1.3.0->dowhy) (3.2.0)\n",
            "Downloading dowhy-0.11.1-py3-none-any.whl (383 kB)\n",
            "\u001b[2K   \u001b[90m━━━━━━━━━━━━━━━━━━━━━━━━━━━━━━━━━━━━━━━━\u001b[0m \u001b[32m383.4/383.4 kB\u001b[0m \u001b[31m19.3 MB/s\u001b[0m eta \u001b[36m0:00:00\u001b[0m\n",
            "\u001b[?25hDownloading causal_learn-0.1.3.8-py3-none-any.whl (174 kB)\n",
            "\u001b[2K   \u001b[90m━━━━━━━━━━━━━━━━━━━━━━━━━━━━━━━━━━━━━━━━\u001b[0m \u001b[32m174.5/174.5 kB\u001b[0m \u001b[31m11.7 MB/s\u001b[0m eta \u001b[36m0:00:00\u001b[0m\n",
            "\u001b[?25hInstalling collected packages: causal-learn, dowhy\n",
            "Successfully installed causal-learn-0.1.3.8 dowhy-0.11.1\n",
            "Requirement already satisfied: networkx in /usr/local/lib/python3.10/dist-packages (3.4.2)\n"
          ]
        }
      ]
    },
    {
      "cell_type": "markdown",
      "source": [
        "Importing the required libraries and packages"
      ],
      "metadata": {
        "id": "najKKiN_xPk-"
      }
    },
    {
      "cell_type": "code",
      "source": [
        "import numpy as np\n",
        "import pandas as pd\n",
        "import networkx as nx\n",
        "from dowhy import CausalModel\n",
        "import torch\n",
        "import torch.nn.functional as F\n",
        "from torch_geometric.nn import GCNConv\n",
        "import matplotlib.pyplot as plt\n",
        "from torch_geometric.data import Data\n",
        "from sklearn.model_selection import train_test_split"
      ],
      "metadata": {
        "id": "6SoCNJu4xWLF"
      },
      "execution_count": null,
      "outputs": []
    },
    {
      "cell_type": "markdown",
      "source": [
        "**Load and preprocess the Breast Cancer dataset**\n",
        "# -------------------------------------------\n",
        " In this step, we load the Breast Cancer dataset we downloaded from kaggle.This dataset is used for classifying if a tumor is classified as malignant or benign.This dataset is chosen as medical field is always intrested in understanding the effect of each feature on the final outcome and will benefit from this analysis."
      ],
      "metadata": {
        "id": "Onh7SHPoxX61"
      }
    },
    {
      "cell_type": "code",
      "source": [
        "device = torch.device('cuda' if torch.cuda.is_available() else 'cpu')\n",
        "dataset = pd.read_csv('/content/ADAdata.csv')\n",
        "\n",
        "# Drop the 30th column (index 30) and the 'Unnamed: 32' column\n",
        "dataset = dataset.drop(columns=[dataset.columns[30], 'Unnamed: 32'])"
      ],
      "metadata": {
        "id": "47ZBU5gayqCv"
      },
      "execution_count": null,
      "outputs": []
    },
    {
      "cell_type": "markdown",
      "source": [
        "Convert features and labels to DataFrame for causal analysis.\n"
      ],
      "metadata": {
        "id": "6iysrNEczCRD"
      }
    },
    {
      "cell_type": "code",
      "source": [
        "# Extract features and labels\n",
        "labels = dataset['diagnosis'].map({'M': 1, 'B': 0})\n",
        "features = dataset.drop(columns=['diagnosis', 'id']).values  # Dropping 'diagnosis' and 'id' columns\n",
        "\n",
        "# Now you have the full dataset with 'diagnosis' encoded as 1 and 0\n"
      ],
      "metadata": {
        "id": "JEZB3MlEzBb1"
      },
      "execution_count": null,
      "outputs": []
    },
    {
      "cell_type": "code",
      "source": [
        "#Converting it to the format required for training the model\n",
        "features = torch.tensor(features, dtype=torch.float).to(device)\n",
        "labels = torch.tensor(labels, dtype=torch.long).to(device)\n",
        "\n",
        "# Handle NaN or Inf values\n",
        "if torch.any(torch.isnan(features)) or torch.any(torch.isinf(features)):\n",
        "    print(\"NaN or Inf detected in the input data!\")\n",
        "\n",
        "    # Option 1: Replace NaNs with the mean of each column\n",
        "    features = features.cpu().numpy()\n",
        "    nan_mask = np.isnan(features)\n",
        "\n",
        "    for col in range(features.shape[1]):\n",
        "        features[nan_mask[:, col], col] = np.nanmean(features[:, col])\n",
        "\n",
        "    # Convert back to tensor\n",
        "    features = torch.tensor(features, dtype=torch.float).to(device)\n",
        "\n",
        "# Ensure labels are not empty after cleaning\n",
        "if features.size(0) == 0 or labels.size(0) == 0:\n",
        "    raise ValueError(\"No valid data left after cleaning!\")\n"
      ],
      "metadata": {
        "id": "0oW9tkLTIvSf"
      },
      "execution_count": null,
      "outputs": []
    },
    {
      "cell_type": "markdown",
      "source": [
        "Split the data into train and test data for testing the models performance."
      ],
      "metadata": {
        "id": "1r0M-3dK-sgF"
      }
    },
    {
      "cell_type": "code",
      "source": [
        "X_train, X_test, y_train, y_test = train_test_split(features.cpu().numpy(), labels.cpu().numpy(), test_size=0.2, random_state=42)\n",
        "\n",
        "# Convert the splits back to PyTorch tensors\n",
        "X_train = torch.tensor(X_train, dtype=torch.float).to(device)\n",
        "y_train = torch.tensor(y_train, dtype=torch.long).to(device)\n",
        "X_test = torch.tensor(X_test, dtype=torch.float).to(device)\n",
        "y_test = torch.tensor(y_test, dtype=torch.long).to(device)"
      ],
      "metadata": {
        "id": "u83GIqDj-4BR"
      },
      "execution_count": null,
      "outputs": []
    },
    {
      "cell_type": "markdown",
      "source": [
        "**GCN Model**\n",
        "# ---------------------------\n",
        " We define a Graph Convolutional Network (GCN) model using two GCN layers.\n",
        " The first layer transforms the input features into 16-dimensional representations,and the second layer produces class predictions. The model also uses dropout for regularization.\n",
        " We have chosen a very simple architecture for GNN this can definetely modified based on the complexity of the dataset to improve the model's performance."
      ],
      "metadata": {
        "id": "o7FeQhe5ze7O"
      }
    },
    {
      "cell_type": "code",
      "source": [
        "class GNNModel(torch.nn.Module):\n",
        "    def __init__(self):\n",
        "        super(GNNModel, self).__init__()\n",
        "        self.conv1 = GCNConv(X_train.size(1), 16)  # Input dimension is number of features\n",
        "        self.conv2 = GCNConv(16, 2)  # Binary classification: 2 classes\n",
        "\n",
        "    def forward(self, x, edge_index):\n",
        "        x = self.conv1(x, edge_index)\n",
        "        x = F.relu(x)\n",
        "        x = F.dropout(x, training=self.training)\n",
        "        x = self.conv2(x, edge_index)\n",
        "        return F.log_softmax(x, dim=1)\n",
        "\n"
      ],
      "metadata": {
        "id": "QSEUVFRSzdNg"
      },
      "execution_count": null,
      "outputs": []
    },
    {
      "cell_type": "markdown",
      "source": [
        "Create the edge indexes for the test and train graphs"
      ],
      "metadata": {
        "id": "zqOUjylU_OiY"
      }
    },
    {
      "cell_type": "code",
      "source": [
        "# Generate edge indices for train and test graphs based on the number of nodes in each split\n",
        "def create_edge_index(num_nodes):\n",
        "    \"\"\"\n",
        "    Creates a fully connected edge index for a graph with 'num_nodes'.\n",
        "    \"\"\"\n",
        "    node_indices = torch.arange(num_nodes).to(device)\n",
        "    edges = torch.combinations(node_indices, r=2).t().contiguous()\n",
        "    return edges.to(device)\n",
        "\n",
        "# Train and test edge indices\n",
        "train_edge_index = create_edge_index(len(X_train))\n",
        "test_edge_index = create_edge_index(len(X_test))\n"
      ],
      "metadata": {
        "id": "qwaXRLSQ_Squ"
      },
      "execution_count": null,
      "outputs": []
    },
    {
      "cell_type": "markdown",
      "source": [
        "Initialise the model"
      ],
      "metadata": {
        "id": "EFvUre1r_cCl"
      }
    },
    {
      "cell_type": "code",
      "source": [
        "# Create train and test data objects\n",
        "train_data = Data(x=X_train, edge_index=train_edge_index, y=y_train)\n",
        "test_data = Data(x=X_test, edge_index=test_edge_index, y=y_test)\n",
        "\n",
        "# Initialize model, optimizer, and loss function\n",
        "model = GNNModel().to(device)\n",
        "optimizer = torch.optim.Adam(model.parameters(), lr=0.01)\n",
        "criterion = torch.nn.CrossEntropyLoss()"
      ],
      "metadata": {
        "id": "8UFjFaKt_d7_"
      },
      "execution_count": null,
      "outputs": []
    },
    {
      "cell_type": "markdown",
      "source": [
        "Train the GCN model : In this function, we perform the training of the GCN model by computing the loss and backpropagating the gradients."
      ],
      "metadata": {
        "id": "4xm0oHTc0kY1"
      }
    },
    {
      "cell_type": "code",
      "source": [
        "def train():\n",
        "    model.train()\n",
        "    optimizer.zero_grad()\n",
        "    out = model(train_data.x, train_data.edge_index)\n",
        "    loss = criterion(out, train_data.y)\n",
        "    loss.backward()\n",
        "    optimizer.step()\n",
        "    return loss.item()"
      ],
      "metadata": {
        "id": "s569OmAt04Sm"
      },
      "execution_count": null,
      "outputs": []
    },
    {
      "cell_type": "markdown",
      "source": [
        " Evaluate the GCN model : This function evaluates the accuracy of the trained model on the test set."
      ],
      "metadata": {
        "id": "FYuZq9Ml1Drc"
      }
    },
    {
      "cell_type": "code",
      "source": [
        "def test(data_obj):\n",
        "    model.eval()\n",
        "    with torch.no_grad():\n",
        "        out = model(data_obj.x, data_obj.edge_index)\n",
        "    pred = out.argmax(dim=1)\n",
        "    acc = (pred == data_obj.y).sum().item() / data_obj.y.size(0)\n",
        "    return acc"
      ],
      "metadata": {
        "id": "YuTkaxhL0-TN"
      },
      "execution_count": null,
      "outputs": []
    },
    {
      "cell_type": "markdown",
      "source": [
        "Finetuning function:Since the test and train graphs are seperate graphs. In order to transfer the node embedding learning during the training phase onto the test graph we incorporate finetuning the test graph based on the training graph knowledge.Its essentially like loading the pre-trained graph and adapting it to the node structure of the test graph."
      ],
      "metadata": {
        "id": "DtG-XPyNBPTa"
      }
    },
    {
      "cell_type": "code",
      "source": [
        "def fine_tune_test_graph():\n",
        "    test_optimizer = torch.optim.Adam(model.parameters(), lr=0.001)  # Lower learning rate for fine-tuning\n",
        "    model.train()\n",
        "\n",
        "    for epoch in range(50):  # Fine-tune for a few epochs\n",
        "        test_optimizer.zero_grad()\n",
        "        out = model(test_data.x, test_data.edge_index)\n",
        "        loss = criterion(out, test_data.y)\n",
        "        loss.backward()\n",
        "        test_optimizer.step()\n",
        "\n",
        "    print(\"Fine-tuning completed.\")"
      ],
      "metadata": {
        "id": "MSpajHvJZYZP"
      },
      "execution_count": null,
      "outputs": []
    },
    {
      "cell_type": "markdown",
      "source": [
        "Train the GCN model for a few epochs. Finetune it for few epochs and test the models accuracy for test dataset."
      ],
      "metadata": {
        "id": "niyQAi0M1U0W"
      }
    },
    {
      "cell_type": "code",
      "source": [
        "num_epochs = 200\n",
        "for epoch in range(num_epochs):\n",
        "    loss = train()\n",
        "    if epoch % 20 == 0:\n",
        "        train_acc = test(train_data)\n",
        "        test_acc = test(test_data)\n",
        "        print(f'Epoch: {epoch}, Loss: {loss:.4f}, Train Accuracy: {train_acc:.4f}, Test Accuracy: {test_acc:.4f}')\n",
        "\n",
        "# Step 8: Fine-tune the test graph after training\n",
        "fine_tune_test_graph()\n",
        "\n",
        "# Re-evaluate the test accuracy after fine-tuning\n",
        "test_acc = test(test_data)\n",
        "print(f'Final Test Accuracy after fine-tuning: {test_acc:.4f}')\n"
      ],
      "metadata": {
        "colab": {
          "base_uri": "https://localhost:8080/"
        },
        "id": "yPwaqXgY1e1f",
        "outputId": "a4e0e690-b4db-443e-d728-c37d902f5d40"
      },
      "execution_count": null,
      "outputs": [
        {
          "output_type": "stream",
          "name": "stdout",
          "text": [
            "Epoch: 0, Loss: 0.6772, Train Accuracy: 0.6286, Test Accuracy: 0.6228\n",
            "Epoch: 20, Loss: 0.6603, Train Accuracy: 0.6286, Test Accuracy: 0.6228\n",
            "Epoch: 40, Loss: 0.6602, Train Accuracy: 0.6286, Test Accuracy: 0.6228\n",
            "Epoch: 60, Loss: 0.6598, Train Accuracy: 0.6286, Test Accuracy: 0.6228\n",
            "Epoch: 80, Loss: 0.6599, Train Accuracy: 0.6286, Test Accuracy: 0.6228\n",
            "Epoch: 100, Loss: 0.6608, Train Accuracy: 0.6286, Test Accuracy: 0.6228\n",
            "Epoch: 120, Loss: 0.6597, Train Accuracy: 0.6286, Test Accuracy: 0.6228\n",
            "Epoch: 140, Loss: 0.6589, Train Accuracy: 0.6286, Test Accuracy: 0.6228\n",
            "Epoch: 160, Loss: 0.6602, Train Accuracy: 0.6286, Test Accuracy: 0.6228\n",
            "Epoch: 180, Loss: 0.6597, Train Accuracy: 0.6286, Test Accuracy: 0.6228\n",
            "Fine-tuning completed.\n",
            "Final Test Accuracy after fine-tuning: 0.6228\n"
          ]
        }
      ]
    },
    {
      "cell_type": "markdown",
      "source": [
        "Preparing data for causal inference/Analysis"
      ],
      "metadata": {
        "id": "yqmIC3nsbbuZ"
      }
    },
    {
      "cell_type": "code",
      "source": [
        "columns = [ 'radius_mean', 'texture_mean', 'perimeter_mean',\n",
        "       'area_mean', 'smoothness_mean', 'compactness_mean', 'concavity_mean',\n",
        "       'concave points_mean', 'symmetry_mean', 'fractal_dimension_mean',\n",
        "       'radius_se', 'texture_se', 'perimeter_se', 'area_se', 'smoothness_se',\n",
        "       'compactness_se', 'concavity_se', 'concave points_se', 'symmetry_se',\n",
        "       'fractal_dimension_se', 'radius_worst', 'texture_worst',\n",
        "       'perimeter_worst', 'area_worst', 'smoothness_worst',\n",
        "       'compactness_worst', 'concavity_worst', 'concave points_worst',\n",
        "       'fractal_dimension_worst']\n",
        "\n",
        "# Convert features and labels to DataFrame for causal analysis\n",
        "features_df = pd.DataFrame(X_train.cpu().numpy(), columns=columns)  # Only 31 features\n",
        "labels_df = pd.Series(y_train.cpu().numpy(), name='label')\n",
        "full_data = pd.concat([features_df, labels_df], axis=1)"
      ],
      "metadata": {
        "id": "h1TthOZk69e4"
      },
      "execution_count": null,
      "outputs": []
    },
    {
      "cell_type": "markdown",
      "source": [
        "Monte Carlo Simulation with Dynamic Confounder Selection\n",
        "# -----------------------------------------------------------------\n",
        " In this step, we run a Monte Carlo simulation where we randomly select a feature as the treatment (or cause), and all other features act as confounders. We dynamically build a causal graph and use DoWhy for causal inference.This is one of the most important steps as we are allowing every feature to have confounding variables and calculating the causal effect to ensure the robustness of our feature selection"
      ],
      "metadata": {
        "id": "UlTjjQ-p13kg"
      }
    },
    {
      "cell_type": "code",
      "source": [
        "def monte_carlo_dynamic_confounded_feature_selection(num_simulations=100):\n",
        "    causal_results = []\n",
        "\n",
        "    for i in range(num_simulations):\n",
        "        print(f\"Running simulation {i + 1}/{num_simulations}\")\n",
        "\n",
        "        # Randomly select a treatment feature for this simulation\n",
        "        treatment_feature = np.random.choice(features_df.columns)\n",
        "\n",
        "        # All other features become potential confounders\n",
        "        potential_confounders = [f for f in features_df.columns if f != treatment_feature]\n",
        "\n",
        "        # Build the causal graph dynamically\n",
        "        causal_graph = nx.DiGraph()\n",
        "\n",
        "        # Add edges from the treatment feature to the outcome (label)\n",
        "        causal_graph.add_edge(treatment_feature, 'label')\n",
        "\n",
        "        # Add edges from confounders to both the treatment feature and the outcome\n",
        "        for confounder in potential_confounders:\n",
        "            causal_graph.add_edge(confounder, treatment_feature)  # Confounders affecting treatment\n",
        "            causal_graph.add_edge(confounder, 'label')  # Confounders affecting the outcome\n",
        "\n",
        "        # Define the causal model using DoWhy\n",
        "        causal_model = CausalModel(\n",
        "            data=full_data[[treatment_feature, *potential_confounders, 'label']],\n",
        "            treatment=treatment_feature,  # The feature being treated as the cause\n",
        "            outcome='label',\n",
        "            graph=causal_graph\n",
        "        )\n",
        "\n",
        "        # Identify the causal effect\n",
        "        identified_estimand = causal_model.identify_effect()\n",
        "\n",
        "        # Estimate the causal effect adjusting for all confounders\n",
        "        causal_estimate = causal_model.estimate_effect(identified_estimand, method_name=\"backdoor.linear_regression\")\n",
        "        print(f\"Estimated Causal Effect for {treatment_feature}:\", causal_estimate.value)\n",
        "\n",
        "        # Store the results for analysis\n",
        "        causal_results.append({\n",
        "            'simulation': i,\n",
        "            'feature': treatment_feature,\n",
        "            'confounders': potential_confounders,\n",
        "            'causal_effect': causal_estimate.value\n",
        "        })\n",
        "\n",
        "    return pd.DataFrame(causal_results)\n"
      ],
      "metadata": {
        "id": "78Fp4WgG2Sc2"
      },
      "execution_count": null,
      "outputs": []
    },
    {
      "cell_type": "markdown",
      "source": [
        " Run Monte Carlo feature selection : We run the Monte Carlo simulations with 100 iterations to assess the causal effect of each feature.Since the feature gets selected at random to ensure every feature gets selected we have statistiaclly calculated the number of iterations and chosen a value of 100."
      ],
      "metadata": {
        "id": "Ca1a9PiN2cwO"
      }
    },
    {
      "cell_type": "code",
      "source": [
        "simulation_results = monte_carlo_dynamic_confounded_feature_selection()\n",
        "summary_stats = simulation_results.groupby('feature')['causal_effect'].agg(['mean', 'std', 'count'])\n",
        "\n",
        "# Print the summary statistics\n",
        "print(\"Summary Statistics of Causal Effects for Each Feature:\")\n",
        "print(summary_stats)"
      ],
      "metadata": {
        "id": "9F9Bs8c82xjT",
        "colab": {
          "base_uri": "https://localhost:8080/"
        },
        "outputId": "a13f15d0-1af5-48d4-e8c9-b446be719332"
      },
      "execution_count": null,
      "outputs": [
        {
          "output_type": "stream",
          "name": "stdout",
          "text": [
            "Running simulation 1/100\n"
          ]
        },
        {
          "output_type": "stream",
          "name": "stderr",
          "text": [
            "WARNING:dowhy.causal_identifier.auto_identifier:Max number of iterations 100000 reached. Could not find a valid backdoor set.\n",
            "/usr/local/lib/python3.10/dist-packages/dowhy/causal_estimators/regression_estimator.py:179: FutureWarning: Series.__getitem__ treating keys as positions is deprecated. In a future version, integer keys will always be treated as labels (consistent with DataFrame behavior). To access a value by position, use `ser.iloc[pos]`\n",
            "  intercept_parameter = self.model.params[0]\n"
          ]
        },
        {
          "output_type": "stream",
          "name": "stdout",
          "text": [
            "Estimated Causal Effect for concavity_se: -3.9619643539526974\n",
            "Running simulation 2/100\n"
          ]
        },
        {
          "output_type": "stream",
          "name": "stderr",
          "text": [
            "WARNING:dowhy.causal_identifier.auto_identifier:Max number of iterations 100000 reached. Could not find a valid backdoor set.\n",
            "/usr/local/lib/python3.10/dist-packages/dowhy/causal_estimators/regression_estimator.py:179: FutureWarning: Series.__getitem__ treating keys as positions is deprecated. In a future version, integer keys will always be treated as labels (consistent with DataFrame behavior). To access a value by position, use `ser.iloc[pos]`\n",
            "  intercept_parameter = self.model.params[0]\n"
          ]
        },
        {
          "output_type": "stream",
          "name": "stdout",
          "text": [
            "Estimated Causal Effect for perimeter_worst: -0.008197838155489023\n",
            "Running simulation 3/100\n"
          ]
        },
        {
          "output_type": "stream",
          "name": "stderr",
          "text": [
            "WARNING:dowhy.causal_identifier.auto_identifier:Max number of iterations 100000 reached. Could not find a valid backdoor set.\n",
            "/usr/local/lib/python3.10/dist-packages/dowhy/causal_estimators/regression_estimator.py:179: FutureWarning: Series.__getitem__ treating keys as positions is deprecated. In a future version, integer keys will always be treated as labels (consistent with DataFrame behavior). To access a value by position, use `ser.iloc[pos]`\n",
            "  intercept_parameter = self.model.params[0]\n"
          ]
        },
        {
          "output_type": "stream",
          "name": "stdout",
          "text": [
            "Estimated Causal Effect for concave points_mean: 4.782443201582993\n",
            "Running simulation 4/100\n"
          ]
        },
        {
          "output_type": "stream",
          "name": "stderr",
          "text": [
            "WARNING:dowhy.causal_identifier.auto_identifier:Max number of iterations 100000 reached. Could not find a valid backdoor set.\n",
            "/usr/local/lib/python3.10/dist-packages/dowhy/causal_estimators/regression_estimator.py:179: FutureWarning: Series.__getitem__ treating keys as positions is deprecated. In a future version, integer keys will always be treated as labels (consistent with DataFrame behavior). To access a value by position, use `ser.iloc[pos]`\n",
            "  intercept_parameter = self.model.params[0]\n"
          ]
        },
        {
          "output_type": "stream",
          "name": "stdout",
          "text": [
            "Estimated Causal Effect for compactness_mean: -5.269154881432373\n",
            "Running simulation 5/100\n"
          ]
        },
        {
          "output_type": "stream",
          "name": "stderr",
          "text": [
            "WARNING:dowhy.causal_identifier.auto_identifier:Max number of iterations 100000 reached. Could not find a valid backdoor set.\n",
            "/usr/local/lib/python3.10/dist-packages/dowhy/causal_estimators/regression_estimator.py:179: FutureWarning: Series.__getitem__ treating keys as positions is deprecated. In a future version, integer keys will always be treated as labels (consistent with DataFrame behavior). To access a value by position, use `ser.iloc[pos]`\n",
            "  intercept_parameter = self.model.params[0]\n"
          ]
        },
        {
          "output_type": "stream",
          "name": "stdout",
          "text": [
            "Estimated Causal Effect for perimeter_se: -0.015970088026629747\n",
            "Running simulation 6/100\n"
          ]
        },
        {
          "output_type": "stream",
          "name": "stderr",
          "text": [
            "WARNING:dowhy.causal_identifier.auto_identifier:Max number of iterations 100000 reached. Could not find a valid backdoor set.\n",
            "/usr/local/lib/python3.10/dist-packages/dowhy/causal_estimators/regression_estimator.py:179: FutureWarning: Series.__getitem__ treating keys as positions is deprecated. In a future version, integer keys will always be treated as labels (consistent with DataFrame behavior). To access a value by position, use `ser.iloc[pos]`\n",
            "  intercept_parameter = self.model.params[0]\n"
          ]
        },
        {
          "output_type": "stream",
          "name": "stdout",
          "text": [
            "Estimated Causal Effect for concave points_worst: -1.170191154397016\n",
            "Running simulation 7/100\n"
          ]
        },
        {
          "output_type": "stream",
          "name": "stderr",
          "text": [
            "WARNING:dowhy.causal_identifier.auto_identifier:Max number of iterations 100000 reached. Could not find a valid backdoor set.\n",
            "/usr/local/lib/python3.10/dist-packages/dowhy/causal_estimators/regression_estimator.py:179: FutureWarning: Series.__getitem__ treating keys as positions is deprecated. In a future version, integer keys will always be treated as labels (consistent with DataFrame behavior). To access a value by position, use `ser.iloc[pos]`\n",
            "  intercept_parameter = self.model.params[0]\n"
          ]
        },
        {
          "output_type": "stream",
          "name": "stdout",
          "text": [
            "Estimated Causal Effect for concave points_mean: 4.782443201582993\n",
            "Running simulation 8/100\n"
          ]
        },
        {
          "output_type": "stream",
          "name": "stderr",
          "text": [
            "WARNING:dowhy.causal_identifier.auto_identifier:Max number of iterations 100000 reached. Could not find a valid backdoor set.\n",
            "/usr/local/lib/python3.10/dist-packages/dowhy/causal_estimators/regression_estimator.py:179: FutureWarning: Series.__getitem__ treating keys as positions is deprecated. In a future version, integer keys will always be treated as labels (consistent with DataFrame behavior). To access a value by position, use `ser.iloc[pos]`\n",
            "  intercept_parameter = self.model.params[0]\n"
          ]
        },
        {
          "output_type": "stream",
          "name": "stdout",
          "text": [
            "Estimated Causal Effect for concave points_se: 17.231472782589023\n",
            "Running simulation 9/100\n"
          ]
        },
        {
          "output_type": "stream",
          "name": "stderr",
          "text": [
            "WARNING:dowhy.causal_identifier.auto_identifier:Max number of iterations 100000 reached. Could not find a valid backdoor set.\n",
            "/usr/local/lib/python3.10/dist-packages/dowhy/causal_estimators/regression_estimator.py:179: FutureWarning: Series.__getitem__ treating keys as positions is deprecated. In a future version, integer keys will always be treated as labels (consistent with DataFrame behavior). To access a value by position, use `ser.iloc[pos]`\n",
            "  intercept_parameter = self.model.params[0]\n"
          ]
        },
        {
          "output_type": "stream",
          "name": "stdout",
          "text": [
            "Estimated Causal Effect for area_worst: -0.0010768756345569397\n",
            "Running simulation 10/100\n"
          ]
        },
        {
          "output_type": "stream",
          "name": "stderr",
          "text": [
            "WARNING:dowhy.causal_identifier.auto_identifier:Max number of iterations 100000 reached. Could not find a valid backdoor set.\n",
            "/usr/local/lib/python3.10/dist-packages/dowhy/causal_estimators/regression_estimator.py:179: FutureWarning: Series.__getitem__ treating keys as positions is deprecated. In a future version, integer keys will always be treated as labels (consistent with DataFrame behavior). To access a value by position, use `ser.iloc[pos]`\n",
            "  intercept_parameter = self.model.params[0]\n"
          ]
        },
        {
          "output_type": "stream",
          "name": "stdout",
          "text": [
            "Estimated Causal Effect for area_worst: -0.0010768756345569397\n",
            "Running simulation 11/100\n"
          ]
        },
        {
          "output_type": "stream",
          "name": "stderr",
          "text": [
            "WARNING:dowhy.causal_identifier.auto_identifier:Max number of iterations 100000 reached. Could not find a valid backdoor set.\n",
            "/usr/local/lib/python3.10/dist-packages/dowhy/causal_estimators/regression_estimator.py:179: FutureWarning: Series.__getitem__ treating keys as positions is deprecated. In a future version, integer keys will always be treated as labels (consistent with DataFrame behavior). To access a value by position, use `ser.iloc[pos]`\n",
            "  intercept_parameter = self.model.params[0]\n"
          ]
        },
        {
          "output_type": "stream",
          "name": "stdout",
          "text": [
            "Estimated Causal Effect for compactness_mean: -5.269154881432373\n",
            "Running simulation 12/100\n"
          ]
        },
        {
          "output_type": "stream",
          "name": "stderr",
          "text": [
            "WARNING:dowhy.causal_identifier.auto_identifier:Max number of iterations 100000 reached. Could not find a valid backdoor set.\n",
            "/usr/local/lib/python3.10/dist-packages/dowhy/causal_estimators/regression_estimator.py:179: FutureWarning: Series.__getitem__ treating keys as positions is deprecated. In a future version, integer keys will always be treated as labels (consistent with DataFrame behavior). To access a value by position, use `ser.iloc[pos]`\n",
            "  intercept_parameter = self.model.params[0]\n"
          ]
        },
        {
          "output_type": "stream",
          "name": "stdout",
          "text": [
            "Estimated Causal Effect for radius_se: 0.396851739061206\n",
            "Running simulation 13/100\n"
          ]
        },
        {
          "output_type": "stream",
          "name": "stderr",
          "text": [
            "WARNING:dowhy.causal_identifier.auto_identifier:Max number of iterations 100000 reached. Could not find a valid backdoor set.\n",
            "/usr/local/lib/python3.10/dist-packages/dowhy/causal_estimators/regression_estimator.py:179: FutureWarning: Series.__getitem__ treating keys as positions is deprecated. In a future version, integer keys will always be treated as labels (consistent with DataFrame behavior). To access a value by position, use `ser.iloc[pos]`\n",
            "  intercept_parameter = self.model.params[0]\n"
          ]
        },
        {
          "output_type": "stream",
          "name": "stdout",
          "text": [
            "Estimated Causal Effect for concave points_se: 17.231472782589023\n",
            "Running simulation 14/100\n"
          ]
        },
        {
          "output_type": "stream",
          "name": "stderr",
          "text": [
            "WARNING:dowhy.causal_identifier.auto_identifier:Max number of iterations 100000 reached. Could not find a valid backdoor set.\n",
            "/usr/local/lib/python3.10/dist-packages/dowhy/causal_estimators/regression_estimator.py:179: FutureWarning: Series.__getitem__ treating keys as positions is deprecated. In a future version, integer keys will always be treated as labels (consistent with DataFrame behavior). To access a value by position, use `ser.iloc[pos]`\n",
            "  intercept_parameter = self.model.params[0]\n"
          ]
        },
        {
          "output_type": "stream",
          "name": "stdout",
          "text": [
            "Estimated Causal Effect for concave points_worst: -1.170191154397016\n",
            "Running simulation 15/100\n"
          ]
        },
        {
          "output_type": "stream",
          "name": "stderr",
          "text": [
            "WARNING:dowhy.causal_identifier.auto_identifier:Max number of iterations 100000 reached. Could not find a valid backdoor set.\n",
            "/usr/local/lib/python3.10/dist-packages/dowhy/causal_estimators/regression_estimator.py:179: FutureWarning: Series.__getitem__ treating keys as positions is deprecated. In a future version, integer keys will always be treated as labels (consistent with DataFrame behavior). To access a value by position, use `ser.iloc[pos]`\n",
            "  intercept_parameter = self.model.params[0]\n"
          ]
        },
        {
          "output_type": "stream",
          "name": "stdout",
          "text": [
            "Estimated Causal Effect for texture_se: -0.040669934574764754\n",
            "Running simulation 16/100\n"
          ]
        },
        {
          "output_type": "stream",
          "name": "stderr",
          "text": [
            "WARNING:dowhy.causal_identifier.auto_identifier:Max number of iterations 100000 reached. Could not find a valid backdoor set.\n",
            "/usr/local/lib/python3.10/dist-packages/dowhy/causal_estimators/regression_estimator.py:179: FutureWarning: Series.__getitem__ treating keys as positions is deprecated. In a future version, integer keys will always be treated as labels (consistent with DataFrame behavior). To access a value by position, use `ser.iloc[pos]`\n",
            "  intercept_parameter = self.model.params[0]\n"
          ]
        },
        {
          "output_type": "stream",
          "name": "stdout",
          "text": [
            "Estimated Causal Effect for radius_worst: 0.23391172722099496\n",
            "Running simulation 17/100\n"
          ]
        },
        {
          "output_type": "stream",
          "name": "stderr",
          "text": [
            "WARNING:dowhy.causal_identifier.auto_identifier:Max number of iterations 100000 reached. Could not find a valid backdoor set.\n",
            "/usr/local/lib/python3.10/dist-packages/dowhy/causal_estimators/regression_estimator.py:179: FutureWarning: Series.__getitem__ treating keys as positions is deprecated. In a future version, integer keys will always be treated as labels (consistent with DataFrame behavior). To access a value by position, use `ser.iloc[pos]`\n",
            "  intercept_parameter = self.model.params[0]\n"
          ]
        },
        {
          "output_type": "stream",
          "name": "stdout",
          "text": [
            "Estimated Causal Effect for smoothness_mean: -0.908994299556281\n",
            "Running simulation 18/100\n"
          ]
        },
        {
          "output_type": "stream",
          "name": "stderr",
          "text": [
            "WARNING:dowhy.causal_identifier.auto_identifier:Max number of iterations 100000 reached. Could not find a valid backdoor set.\n",
            "/usr/local/lib/python3.10/dist-packages/dowhy/causal_estimators/regression_estimator.py:179: FutureWarning: Series.__getitem__ treating keys as positions is deprecated. In a future version, integer keys will always be treated as labels (consistent with DataFrame behavior). To access a value by position, use `ser.iloc[pos]`\n",
            "  intercept_parameter = self.model.params[0]\n"
          ]
        },
        {
          "output_type": "stream",
          "name": "stdout",
          "text": [
            "Estimated Causal Effect for area_worst: -0.0010768756345569397\n",
            "Running simulation 19/100\n"
          ]
        },
        {
          "output_type": "stream",
          "name": "stderr",
          "text": [
            "WARNING:dowhy.causal_identifier.auto_identifier:Max number of iterations 100000 reached. Could not find a valid backdoor set.\n",
            "/usr/local/lib/python3.10/dist-packages/dowhy/causal_estimators/regression_estimator.py:179: FutureWarning: Series.__getitem__ treating keys as positions is deprecated. In a future version, integer keys will always be treated as labels (consistent with DataFrame behavior). To access a value by position, use `ser.iloc[pos]`\n",
            "  intercept_parameter = self.model.params[0]\n"
          ]
        },
        {
          "output_type": "stream",
          "name": "stdout",
          "text": [
            "Estimated Causal Effect for area_se: -0.0009694385763006075\n",
            "Running simulation 20/100\n"
          ]
        },
        {
          "output_type": "stream",
          "name": "stderr",
          "text": [
            "WARNING:dowhy.causal_identifier.auto_identifier:Max number of iterations 100000 reached. Could not find a valid backdoor set.\n",
            "/usr/local/lib/python3.10/dist-packages/dowhy/causal_estimators/regression_estimator.py:179: FutureWarning: Series.__getitem__ treating keys as positions is deprecated. In a future version, integer keys will always be treated as labels (consistent with DataFrame behavior). To access a value by position, use `ser.iloc[pos]`\n",
            "  intercept_parameter = self.model.params[0]\n"
          ]
        },
        {
          "output_type": "stream",
          "name": "stdout",
          "text": [
            "Estimated Causal Effect for perimeter_worst: -0.008197838155489023\n",
            "Running simulation 21/100\n"
          ]
        },
        {
          "output_type": "stream",
          "name": "stderr",
          "text": [
            "WARNING:dowhy.causal_identifier.auto_identifier:Max number of iterations 100000 reached. Could not find a valid backdoor set.\n",
            "/usr/local/lib/python3.10/dist-packages/dowhy/causal_estimators/regression_estimator.py:179: FutureWarning: Series.__getitem__ treating keys as positions is deprecated. In a future version, integer keys will always be treated as labels (consistent with DataFrame behavior). To access a value by position, use `ser.iloc[pos]`\n",
            "  intercept_parameter = self.model.params[0]\n"
          ]
        },
        {
          "output_type": "stream",
          "name": "stdout",
          "text": [
            "Estimated Causal Effect for concavity_mean: 0.9868002385245371\n",
            "Running simulation 22/100\n"
          ]
        },
        {
          "output_type": "stream",
          "name": "stderr",
          "text": [
            "WARNING:dowhy.causal_identifier.auto_identifier:Max number of iterations 100000 reached. Could not find a valid backdoor set.\n",
            "/usr/local/lib/python3.10/dist-packages/dowhy/causal_estimators/regression_estimator.py:179: FutureWarning: Series.__getitem__ treating keys as positions is deprecated. In a future version, integer keys will always be treated as labels (consistent with DataFrame behavior). To access a value by position, use `ser.iloc[pos]`\n",
            "  intercept_parameter = self.model.params[0]\n"
          ]
        },
        {
          "output_type": "stream",
          "name": "stdout",
          "text": [
            "Estimated Causal Effect for radius_se: 0.396851739061206\n",
            "Running simulation 23/100\n"
          ]
        },
        {
          "output_type": "stream",
          "name": "stderr",
          "text": [
            "WARNING:dowhy.causal_identifier.auto_identifier:Max number of iterations 100000 reached. Could not find a valid backdoor set.\n",
            "/usr/local/lib/python3.10/dist-packages/dowhy/causal_estimators/regression_estimator.py:179: FutureWarning: Series.__getitem__ treating keys as positions is deprecated. In a future version, integer keys will always be treated as labels (consistent with DataFrame behavior). To access a value by position, use `ser.iloc[pos]`\n",
            "  intercept_parameter = self.model.params[0]\n"
          ]
        },
        {
          "output_type": "stream",
          "name": "stdout",
          "text": [
            "Estimated Causal Effect for compactness_se: -2.5149282530750465\n",
            "Running simulation 24/100\n"
          ]
        },
        {
          "output_type": "stream",
          "name": "stderr",
          "text": [
            "WARNING:dowhy.causal_identifier.auto_identifier:Max number of iterations 100000 reached. Could not find a valid backdoor set.\n",
            "/usr/local/lib/python3.10/dist-packages/dowhy/causal_estimators/regression_estimator.py:179: FutureWarning: Series.__getitem__ treating keys as positions is deprecated. In a future version, integer keys will always be treated as labels (consistent with DataFrame behavior). To access a value by position, use `ser.iloc[pos]`\n",
            "  intercept_parameter = self.model.params[0]\n"
          ]
        },
        {
          "output_type": "stream",
          "name": "stdout",
          "text": [
            "Estimated Causal Effect for smoothness_se: 15.685965657660061\n",
            "Running simulation 25/100\n"
          ]
        },
        {
          "output_type": "stream",
          "name": "stderr",
          "text": [
            "WARNING:dowhy.causal_identifier.auto_identifier:Max number of iterations 100000 reached. Could not find a valid backdoor set.\n",
            "/usr/local/lib/python3.10/dist-packages/dowhy/causal_estimators/regression_estimator.py:179: FutureWarning: Series.__getitem__ treating keys as positions is deprecated. In a future version, integer keys will always be treated as labels (consistent with DataFrame behavior). To access a value by position, use `ser.iloc[pos]`\n",
            "  intercept_parameter = self.model.params[0]\n"
          ]
        },
        {
          "output_type": "stream",
          "name": "stdout",
          "text": [
            "Estimated Causal Effect for perimeter_worst: -0.008197838155489023\n",
            "Running simulation 26/100\n"
          ]
        },
        {
          "output_type": "stream",
          "name": "stderr",
          "text": [
            "WARNING:dowhy.causal_identifier.auto_identifier:Max number of iterations 100000 reached. Could not find a valid backdoor set.\n",
            "/usr/local/lib/python3.10/dist-packages/dowhy/causal_estimators/regression_estimator.py:179: FutureWarning: Series.__getitem__ treating keys as positions is deprecated. In a future version, integer keys will always be treated as labels (consistent with DataFrame behavior). To access a value by position, use `ser.iloc[pos]`\n",
            "  intercept_parameter = self.model.params[0]\n"
          ]
        },
        {
          "output_type": "stream",
          "name": "stdout",
          "text": [
            "Estimated Causal Effect for radius_se: 0.396851739061206\n",
            "Running simulation 27/100\n"
          ]
        },
        {
          "output_type": "stream",
          "name": "stderr",
          "text": [
            "WARNING:dowhy.causal_identifier.auto_identifier:Max number of iterations 100000 reached. Could not find a valid backdoor set.\n",
            "/usr/local/lib/python3.10/dist-packages/dowhy/causal_estimators/regression_estimator.py:179: FutureWarning: Series.__getitem__ treating keys as positions is deprecated. In a future version, integer keys will always be treated as labels (consistent with DataFrame behavior). To access a value by position, use `ser.iloc[pos]`\n",
            "  intercept_parameter = self.model.params[0]\n"
          ]
        },
        {
          "output_type": "stream",
          "name": "stdout",
          "text": [
            "Estimated Causal Effect for radius_se: 0.396851739061206\n",
            "Running simulation 28/100\n"
          ]
        },
        {
          "output_type": "stream",
          "name": "stderr",
          "text": [
            "WARNING:dowhy.causal_identifier.auto_identifier:Max number of iterations 100000 reached. Could not find a valid backdoor set.\n",
            "/usr/local/lib/python3.10/dist-packages/dowhy/causal_estimators/regression_estimator.py:179: FutureWarning: Series.__getitem__ treating keys as positions is deprecated. In a future version, integer keys will always be treated as labels (consistent with DataFrame behavior). To access a value by position, use `ser.iloc[pos]`\n",
            "  intercept_parameter = self.model.params[0]\n"
          ]
        },
        {
          "output_type": "stream",
          "name": "stdout",
          "text": [
            "Estimated Causal Effect for symmetry_se: 3.297865634856487\n",
            "Running simulation 29/100\n"
          ]
        },
        {
          "output_type": "stream",
          "name": "stderr",
          "text": [
            "WARNING:dowhy.causal_identifier.auto_identifier:Max number of iterations 100000 reached. Could not find a valid backdoor set.\n",
            "/usr/local/lib/python3.10/dist-packages/dowhy/causal_estimators/regression_estimator.py:179: FutureWarning: Series.__getitem__ treating keys as positions is deprecated. In a future version, integer keys will always be treated as labels (consistent with DataFrame behavior). To access a value by position, use `ser.iloc[pos]`\n",
            "  intercept_parameter = self.model.params[0]\n"
          ]
        },
        {
          "output_type": "stream",
          "name": "stdout",
          "text": [
            "Estimated Causal Effect for compactness_worst: 0.8719205517672541\n",
            "Running simulation 30/100\n"
          ]
        },
        {
          "output_type": "stream",
          "name": "stderr",
          "text": [
            "WARNING:dowhy.causal_identifier.auto_identifier:Max number of iterations 100000 reached. Could not find a valid backdoor set.\n",
            "/usr/local/lib/python3.10/dist-packages/dowhy/causal_estimators/regression_estimator.py:179: FutureWarning: Series.__getitem__ treating keys as positions is deprecated. In a future version, integer keys will always be treated as labels (consistent with DataFrame behavior). To access a value by position, use `ser.iloc[pos]`\n",
            "  intercept_parameter = self.model.params[0]\n"
          ]
        },
        {
          "output_type": "stream",
          "name": "stdout",
          "text": [
            "Estimated Causal Effect for radius_mean: -0.23286460563950762\n",
            "Running simulation 31/100\n"
          ]
        },
        {
          "output_type": "stream",
          "name": "stderr",
          "text": [
            "WARNING:dowhy.causal_identifier.auto_identifier:Max number of iterations 100000 reached. Could not find a valid backdoor set.\n",
            "/usr/local/lib/python3.10/dist-packages/dowhy/causal_estimators/regression_estimator.py:179: FutureWarning: Series.__getitem__ treating keys as positions is deprecated. In a future version, integer keys will always be treated as labels (consistent with DataFrame behavior). To access a value by position, use `ser.iloc[pos]`\n",
            "  intercept_parameter = self.model.params[0]\n"
          ]
        },
        {
          "output_type": "stream",
          "name": "stdout",
          "text": [
            "Estimated Causal Effect for texture_mean: -0.0014917771945219815\n",
            "Running simulation 32/100\n"
          ]
        },
        {
          "output_type": "stream",
          "name": "stderr",
          "text": [
            "WARNING:dowhy.causal_identifier.auto_identifier:Max number of iterations 100000 reached. Could not find a valid backdoor set.\n",
            "/usr/local/lib/python3.10/dist-packages/dowhy/causal_estimators/regression_estimator.py:179: FutureWarning: Series.__getitem__ treating keys as positions is deprecated. In a future version, integer keys will always be treated as labels (consistent with DataFrame behavior). To access a value by position, use `ser.iloc[pos]`\n",
            "  intercept_parameter = self.model.params[0]\n"
          ]
        },
        {
          "output_type": "stream",
          "name": "stdout",
          "text": [
            "Estimated Causal Effect for area_worst: -0.0010768756345569397\n",
            "Running simulation 33/100\n"
          ]
        },
        {
          "output_type": "stream",
          "name": "stderr",
          "text": [
            "WARNING:dowhy.causal_identifier.auto_identifier:Max number of iterations 100000 reached. Could not find a valid backdoor set.\n",
            "/usr/local/lib/python3.10/dist-packages/dowhy/causal_estimators/regression_estimator.py:179: FutureWarning: Series.__getitem__ treating keys as positions is deprecated. In a future version, integer keys will always be treated as labels (consistent with DataFrame behavior). To access a value by position, use `ser.iloc[pos]`\n",
            "  intercept_parameter = self.model.params[0]\n"
          ]
        },
        {
          "output_type": "stream",
          "name": "stdout",
          "text": [
            "Estimated Causal Effect for concave points_mean: 4.782443201582993\n",
            "Running simulation 34/100\n"
          ]
        },
        {
          "output_type": "stream",
          "name": "stderr",
          "text": [
            "WARNING:dowhy.causal_identifier.auto_identifier:Max number of iterations 100000 reached. Could not find a valid backdoor set.\n",
            "/usr/local/lib/python3.10/dist-packages/dowhy/causal_estimators/regression_estimator.py:179: FutureWarning: Series.__getitem__ treating keys as positions is deprecated. In a future version, integer keys will always be treated as labels (consistent with DataFrame behavior). To access a value by position, use `ser.iloc[pos]`\n",
            "  intercept_parameter = self.model.params[0]\n"
          ]
        },
        {
          "output_type": "stream",
          "name": "stdout",
          "text": [
            "Estimated Causal Effect for texture_se: -0.040669934574764754\n",
            "Running simulation 35/100\n"
          ]
        },
        {
          "output_type": "stream",
          "name": "stderr",
          "text": [
            "WARNING:dowhy.causal_identifier.auto_identifier:Max number of iterations 100000 reached. Could not find a valid backdoor set.\n",
            "/usr/local/lib/python3.10/dist-packages/dowhy/causal_estimators/regression_estimator.py:179: FutureWarning: Series.__getitem__ treating keys as positions is deprecated. In a future version, integer keys will always be treated as labels (consistent with DataFrame behavior). To access a value by position, use `ser.iloc[pos]`\n",
            "  intercept_parameter = self.model.params[0]\n"
          ]
        },
        {
          "output_type": "stream",
          "name": "stdout",
          "text": [
            "Estimated Causal Effect for concavity_worst: 0.5711473062321287\n",
            "Running simulation 36/100\n"
          ]
        },
        {
          "output_type": "stream",
          "name": "stderr",
          "text": [
            "WARNING:dowhy.causal_identifier.auto_identifier:Max number of iterations 100000 reached. Could not find a valid backdoor set.\n",
            "/usr/local/lib/python3.10/dist-packages/dowhy/causal_estimators/regression_estimator.py:179: FutureWarning: Series.__getitem__ treating keys as positions is deprecated. In a future version, integer keys will always be treated as labels (consistent with DataFrame behavior). To access a value by position, use `ser.iloc[pos]`\n",
            "  intercept_parameter = self.model.params[0]\n"
          ]
        },
        {
          "output_type": "stream",
          "name": "stdout",
          "text": [
            "Estimated Causal Effect for radius_worst: 0.23391172722099496\n",
            "Running simulation 37/100\n"
          ]
        },
        {
          "output_type": "stream",
          "name": "stderr",
          "text": [
            "WARNING:dowhy.causal_identifier.auto_identifier:Max number of iterations 100000 reached. Could not find a valid backdoor set.\n",
            "/usr/local/lib/python3.10/dist-packages/dowhy/causal_estimators/regression_estimator.py:179: FutureWarning: Series.__getitem__ treating keys as positions is deprecated. In a future version, integer keys will always be treated as labels (consistent with DataFrame behavior). To access a value by position, use `ser.iloc[pos]`\n",
            "  intercept_parameter = self.model.params[0]\n"
          ]
        },
        {
          "output_type": "stream",
          "name": "stdout",
          "text": [
            "Estimated Causal Effect for fractal_dimension_se: -5.438548504176314\n",
            "Running simulation 38/100\n"
          ]
        },
        {
          "output_type": "stream",
          "name": "stderr",
          "text": [
            "WARNING:dowhy.causal_identifier.auto_identifier:Max number of iterations 100000 reached. Could not find a valid backdoor set.\n",
            "/usr/local/lib/python3.10/dist-packages/dowhy/causal_estimators/regression_estimator.py:179: FutureWarning: Series.__getitem__ treating keys as positions is deprecated. In a future version, integer keys will always be treated as labels (consistent with DataFrame behavior). To access a value by position, use `ser.iloc[pos]`\n",
            "  intercept_parameter = self.model.params[0]\n"
          ]
        },
        {
          "output_type": "stream",
          "name": "stdout",
          "text": [
            "Estimated Causal Effect for radius_se: 0.396851739061206\n",
            "Running simulation 39/100\n"
          ]
        },
        {
          "output_type": "stream",
          "name": "stderr",
          "text": [
            "WARNING:dowhy.causal_identifier.auto_identifier:Max number of iterations 100000 reached. Could not find a valid backdoor set.\n",
            "/usr/local/lib/python3.10/dist-packages/dowhy/causal_estimators/regression_estimator.py:179: FutureWarning: Series.__getitem__ treating keys as positions is deprecated. In a future version, integer keys will always be treated as labels (consistent with DataFrame behavior). To access a value by position, use `ser.iloc[pos]`\n",
            "  intercept_parameter = self.model.params[0]\n"
          ]
        },
        {
          "output_type": "stream",
          "name": "stdout",
          "text": [
            "Estimated Causal Effect for concave points_mean: 4.782443201582993\n",
            "Running simulation 40/100\n"
          ]
        },
        {
          "output_type": "stream",
          "name": "stderr",
          "text": [
            "WARNING:dowhy.causal_identifier.auto_identifier:Max number of iterations 100000 reached. Could not find a valid backdoor set.\n",
            "/usr/local/lib/python3.10/dist-packages/dowhy/causal_estimators/regression_estimator.py:179: FutureWarning: Series.__getitem__ treating keys as positions is deprecated. In a future version, integer keys will always be treated as labels (consistent with DataFrame behavior). To access a value by position, use `ser.iloc[pos]`\n",
            "  intercept_parameter = self.model.params[0]\n"
          ]
        },
        {
          "output_type": "stream",
          "name": "stdout",
          "text": [
            "Estimated Causal Effect for concave points_se: 17.231472782589023\n",
            "Running simulation 41/100\n"
          ]
        },
        {
          "output_type": "stream",
          "name": "stderr",
          "text": [
            "WARNING:dowhy.causal_identifier.auto_identifier:Max number of iterations 100000 reached. Could not find a valid backdoor set.\n",
            "/usr/local/lib/python3.10/dist-packages/dowhy/causal_estimators/regression_estimator.py:179: FutureWarning: Series.__getitem__ treating keys as positions is deprecated. In a future version, integer keys will always be treated as labels (consistent with DataFrame behavior). To access a value by position, use `ser.iloc[pos]`\n",
            "  intercept_parameter = self.model.params[0]\n"
          ]
        },
        {
          "output_type": "stream",
          "name": "stdout",
          "text": [
            "Estimated Causal Effect for fractal_dimension_mean: 5.999570281570069\n",
            "Running simulation 42/100\n"
          ]
        },
        {
          "output_type": "stream",
          "name": "stderr",
          "text": [
            "WARNING:dowhy.causal_identifier.auto_identifier:Max number of iterations 100000 reached. Could not find a valid backdoor set.\n",
            "/usr/local/lib/python3.10/dist-packages/dowhy/causal_estimators/regression_estimator.py:179: FutureWarning: Series.__getitem__ treating keys as positions is deprecated. In a future version, integer keys will always be treated as labels (consistent with DataFrame behavior). To access a value by position, use `ser.iloc[pos]`\n",
            "  intercept_parameter = self.model.params[0]\n"
          ]
        },
        {
          "output_type": "stream",
          "name": "stdout",
          "text": [
            "Estimated Causal Effect for compactness_se: -2.5149282530750465\n",
            "Running simulation 43/100\n"
          ]
        },
        {
          "output_type": "stream",
          "name": "stderr",
          "text": [
            "WARNING:dowhy.causal_identifier.auto_identifier:Max number of iterations 100000 reached. Could not find a valid backdoor set.\n",
            "/usr/local/lib/python3.10/dist-packages/dowhy/causal_estimators/regression_estimator.py:179: FutureWarning: Series.__getitem__ treating keys as positions is deprecated. In a future version, integer keys will always be treated as labels (consistent with DataFrame behavior). To access a value by position, use `ser.iloc[pos]`\n",
            "  intercept_parameter = self.model.params[0]\n"
          ]
        },
        {
          "output_type": "stream",
          "name": "stdout",
          "text": [
            "Estimated Causal Effect for concave points_worst: -1.170191154397016\n",
            "Running simulation 44/100\n"
          ]
        },
        {
          "output_type": "stream",
          "name": "stderr",
          "text": [
            "WARNING:dowhy.causal_identifier.auto_identifier:Max number of iterations 100000 reached. Could not find a valid backdoor set.\n",
            "/usr/local/lib/python3.10/dist-packages/dowhy/causal_estimators/regression_estimator.py:179: FutureWarning: Series.__getitem__ treating keys as positions is deprecated. In a future version, integer keys will always be treated as labels (consistent with DataFrame behavior). To access a value by position, use `ser.iloc[pos]`\n",
            "  intercept_parameter = self.model.params[0]\n"
          ]
        },
        {
          "output_type": "stream",
          "name": "stdout",
          "text": [
            "Estimated Causal Effect for concavity_mean: 0.9868002385245371\n",
            "Running simulation 45/100\n"
          ]
        },
        {
          "output_type": "stream",
          "name": "stderr",
          "text": [
            "WARNING:dowhy.causal_identifier.auto_identifier:Max number of iterations 100000 reached. Could not find a valid backdoor set.\n",
            "/usr/local/lib/python3.10/dist-packages/dowhy/causal_estimators/regression_estimator.py:179: FutureWarning: Series.__getitem__ treating keys as positions is deprecated. In a future version, integer keys will always be treated as labels (consistent with DataFrame behavior). To access a value by position, use `ser.iloc[pos]`\n",
            "  intercept_parameter = self.model.params[0]\n"
          ]
        },
        {
          "output_type": "stream",
          "name": "stdout",
          "text": [
            "Estimated Causal Effect for texture_worst: 0.013917734263562891\n",
            "Running simulation 46/100\n"
          ]
        },
        {
          "output_type": "stream",
          "name": "stderr",
          "text": [
            "WARNING:dowhy.causal_identifier.auto_identifier:Max number of iterations 100000 reached. Could not find a valid backdoor set.\n",
            "/usr/local/lib/python3.10/dist-packages/dowhy/causal_estimators/regression_estimator.py:179: FutureWarning: Series.__getitem__ treating keys as positions is deprecated. In a future version, integer keys will always be treated as labels (consistent with DataFrame behavior). To access a value by position, use `ser.iloc[pos]`\n",
            "  intercept_parameter = self.model.params[0]\n"
          ]
        },
        {
          "output_type": "stream",
          "name": "stdout",
          "text": [
            "Estimated Causal Effect for radius_mean: -0.23286460563950762\n",
            "Running simulation 47/100\n"
          ]
        },
        {
          "output_type": "stream",
          "name": "stderr",
          "text": [
            "WARNING:dowhy.causal_identifier.auto_identifier:Max number of iterations 100000 reached. Could not find a valid backdoor set.\n",
            "/usr/local/lib/python3.10/dist-packages/dowhy/causal_estimators/regression_estimator.py:179: FutureWarning: Series.__getitem__ treating keys as positions is deprecated. In a future version, integer keys will always be treated as labels (consistent with DataFrame behavior). To access a value by position, use `ser.iloc[pos]`\n",
            "  intercept_parameter = self.model.params[0]\n"
          ]
        },
        {
          "output_type": "stream",
          "name": "stdout",
          "text": [
            "Estimated Causal Effect for symmetry_se: 3.297865634856487\n",
            "Running simulation 48/100\n"
          ]
        },
        {
          "output_type": "stream",
          "name": "stderr",
          "text": [
            "WARNING:dowhy.causal_identifier.auto_identifier:Max number of iterations 100000 reached. Could not find a valid backdoor set.\n",
            "/usr/local/lib/python3.10/dist-packages/dowhy/causal_estimators/regression_estimator.py:179: FutureWarning: Series.__getitem__ treating keys as positions is deprecated. In a future version, integer keys will always be treated as labels (consistent with DataFrame behavior). To access a value by position, use `ser.iloc[pos]`\n",
            "  intercept_parameter = self.model.params[0]\n"
          ]
        },
        {
          "output_type": "stream",
          "name": "stdout",
          "text": [
            "Estimated Causal Effect for compactness_worst: 0.8719205517672541\n",
            "Running simulation 49/100\n"
          ]
        },
        {
          "output_type": "stream",
          "name": "stderr",
          "text": [
            "WARNING:dowhy.causal_identifier.auto_identifier:Max number of iterations 100000 reached. Could not find a valid backdoor set.\n",
            "/usr/local/lib/python3.10/dist-packages/dowhy/causal_estimators/regression_estimator.py:179: FutureWarning: Series.__getitem__ treating keys as positions is deprecated. In a future version, integer keys will always be treated as labels (consistent with DataFrame behavior). To access a value by position, use `ser.iloc[pos]`\n",
            "  intercept_parameter = self.model.params[0]\n"
          ]
        },
        {
          "output_type": "stream",
          "name": "stdout",
          "text": [
            "Estimated Causal Effect for perimeter_worst: -0.008197838155489023\n",
            "Running simulation 50/100\n"
          ]
        },
        {
          "output_type": "stream",
          "name": "stderr",
          "text": [
            "WARNING:dowhy.causal_identifier.auto_identifier:Max number of iterations 100000 reached. Could not find a valid backdoor set.\n",
            "/usr/local/lib/python3.10/dist-packages/dowhy/causal_estimators/regression_estimator.py:179: FutureWarning: Series.__getitem__ treating keys as positions is deprecated. In a future version, integer keys will always be treated as labels (consistent with DataFrame behavior). To access a value by position, use `ser.iloc[pos]`\n",
            "  intercept_parameter = self.model.params[0]\n"
          ]
        },
        {
          "output_type": "stream",
          "name": "stdout",
          "text": [
            "Estimated Causal Effect for concave points_se: 17.231472782589023\n",
            "Running simulation 51/100\n"
          ]
        },
        {
          "output_type": "stream",
          "name": "stderr",
          "text": [
            "WARNING:dowhy.causal_identifier.auto_identifier:Max number of iterations 100000 reached. Could not find a valid backdoor set.\n",
            "/usr/local/lib/python3.10/dist-packages/dowhy/causal_estimators/regression_estimator.py:179: FutureWarning: Series.__getitem__ treating keys as positions is deprecated. In a future version, integer keys will always be treated as labels (consistent with DataFrame behavior). To access a value by position, use `ser.iloc[pos]`\n",
            "  intercept_parameter = self.model.params[0]\n"
          ]
        },
        {
          "output_type": "stream",
          "name": "stdout",
          "text": [
            "Estimated Causal Effect for radius_mean: -0.23286460563950762\n",
            "Running simulation 52/100\n"
          ]
        },
        {
          "output_type": "stream",
          "name": "stderr",
          "text": [
            "WARNING:dowhy.causal_identifier.auto_identifier:Max number of iterations 100000 reached. Could not find a valid backdoor set.\n",
            "/usr/local/lib/python3.10/dist-packages/dowhy/causal_estimators/regression_estimator.py:179: FutureWarning: Series.__getitem__ treating keys as positions is deprecated. In a future version, integer keys will always be treated as labels (consistent with DataFrame behavior). To access a value by position, use `ser.iloc[pos]`\n",
            "  intercept_parameter = self.model.params[0]\n"
          ]
        },
        {
          "output_type": "stream",
          "name": "stdout",
          "text": [
            "Estimated Causal Effect for area_worst: -0.0010768756345569397\n",
            "Running simulation 53/100\n"
          ]
        },
        {
          "output_type": "stream",
          "name": "stderr",
          "text": [
            "WARNING:dowhy.causal_identifier.auto_identifier:Max number of iterations 100000 reached. Could not find a valid backdoor set.\n",
            "/usr/local/lib/python3.10/dist-packages/dowhy/causal_estimators/regression_estimator.py:179: FutureWarning: Series.__getitem__ treating keys as positions is deprecated. In a future version, integer keys will always be treated as labels (consistent with DataFrame behavior). To access a value by position, use `ser.iloc[pos]`\n",
            "  intercept_parameter = self.model.params[0]\n"
          ]
        },
        {
          "output_type": "stream",
          "name": "stdout",
          "text": [
            "Estimated Causal Effect for texture_worst: 0.013917734263562891\n",
            "Running simulation 54/100\n"
          ]
        },
        {
          "output_type": "stream",
          "name": "stderr",
          "text": [
            "WARNING:dowhy.causal_identifier.auto_identifier:Max number of iterations 100000 reached. Could not find a valid backdoor set.\n",
            "/usr/local/lib/python3.10/dist-packages/dowhy/causal_estimators/regression_estimator.py:179: FutureWarning: Series.__getitem__ treating keys as positions is deprecated. In a future version, integer keys will always be treated as labels (consistent with DataFrame behavior). To access a value by position, use `ser.iloc[pos]`\n",
            "  intercept_parameter = self.model.params[0]\n"
          ]
        },
        {
          "output_type": "stream",
          "name": "stdout",
          "text": [
            "Estimated Causal Effect for compactness_se: -2.5149282530750465\n",
            "Running simulation 55/100\n"
          ]
        },
        {
          "output_type": "stream",
          "name": "stderr",
          "text": [
            "WARNING:dowhy.causal_identifier.auto_identifier:Max number of iterations 100000 reached. Could not find a valid backdoor set.\n",
            "/usr/local/lib/python3.10/dist-packages/dowhy/causal_estimators/regression_estimator.py:179: FutureWarning: Series.__getitem__ treating keys as positions is deprecated. In a future version, integer keys will always be treated as labels (consistent with DataFrame behavior). To access a value by position, use `ser.iloc[pos]`\n",
            "  intercept_parameter = self.model.params[0]\n"
          ]
        },
        {
          "output_type": "stream",
          "name": "stdout",
          "text": [
            "Estimated Causal Effect for smoothness_worst: 0.6021511983773997\n",
            "Running simulation 56/100\n"
          ]
        },
        {
          "output_type": "stream",
          "name": "stderr",
          "text": [
            "WARNING:dowhy.causal_identifier.auto_identifier:Max number of iterations 100000 reached. Could not find a valid backdoor set.\n",
            "/usr/local/lib/python3.10/dist-packages/dowhy/causal_estimators/regression_estimator.py:179: FutureWarning: Series.__getitem__ treating keys as positions is deprecated. In a future version, integer keys will always be treated as labels (consistent with DataFrame behavior). To access a value by position, use `ser.iloc[pos]`\n",
            "  intercept_parameter = self.model.params[0]\n"
          ]
        },
        {
          "output_type": "stream",
          "name": "stdout",
          "text": [
            "Estimated Causal Effect for smoothness_se: 15.685965657660061\n",
            "Running simulation 57/100\n"
          ]
        },
        {
          "output_type": "stream",
          "name": "stderr",
          "text": [
            "WARNING:dowhy.causal_identifier.auto_identifier:Max number of iterations 100000 reached. Could not find a valid backdoor set.\n",
            "/usr/local/lib/python3.10/dist-packages/dowhy/causal_estimators/regression_estimator.py:179: FutureWarning: Series.__getitem__ treating keys as positions is deprecated. In a future version, integer keys will always be treated as labels (consistent with DataFrame behavior). To access a value by position, use `ser.iloc[pos]`\n",
            "  intercept_parameter = self.model.params[0]\n"
          ]
        },
        {
          "output_type": "stream",
          "name": "stdout",
          "text": [
            "Estimated Causal Effect for concave points_mean: 4.782443201582993\n",
            "Running simulation 58/100\n"
          ]
        },
        {
          "output_type": "stream",
          "name": "stderr",
          "text": [
            "WARNING:dowhy.causal_identifier.auto_identifier:Max number of iterations 100000 reached. Could not find a valid backdoor set.\n",
            "/usr/local/lib/python3.10/dist-packages/dowhy/causal_estimators/regression_estimator.py:179: FutureWarning: Series.__getitem__ treating keys as positions is deprecated. In a future version, integer keys will always be treated as labels (consistent with DataFrame behavior). To access a value by position, use `ser.iloc[pos]`\n",
            "  intercept_parameter = self.model.params[0]\n"
          ]
        },
        {
          "output_type": "stream",
          "name": "stdout",
          "text": [
            "Estimated Causal Effect for area_worst: -0.0010768756345569397\n",
            "Running simulation 59/100\n"
          ]
        },
        {
          "output_type": "stream",
          "name": "stderr",
          "text": [
            "WARNING:dowhy.causal_identifier.auto_identifier:Max number of iterations 100000 reached. Could not find a valid backdoor set.\n",
            "/usr/local/lib/python3.10/dist-packages/dowhy/causal_estimators/regression_estimator.py:179: FutureWarning: Series.__getitem__ treating keys as positions is deprecated. In a future version, integer keys will always be treated as labels (consistent with DataFrame behavior). To access a value by position, use `ser.iloc[pos]`\n",
            "  intercept_parameter = self.model.params[0]\n"
          ]
        },
        {
          "output_type": "stream",
          "name": "stdout",
          "text": [
            "Estimated Causal Effect for perimeter_mean: 0.025242328841587724\n",
            "Running simulation 60/100\n"
          ]
        },
        {
          "output_type": "stream",
          "name": "stderr",
          "text": [
            "WARNING:dowhy.causal_identifier.auto_identifier:Max number of iterations 100000 reached. Could not find a valid backdoor set.\n",
            "/usr/local/lib/python3.10/dist-packages/dowhy/causal_estimators/regression_estimator.py:179: FutureWarning: Series.__getitem__ treating keys as positions is deprecated. In a future version, integer keys will always be treated as labels (consistent with DataFrame behavior). To access a value by position, use `ser.iloc[pos]`\n",
            "  intercept_parameter = self.model.params[0]\n"
          ]
        },
        {
          "output_type": "stream",
          "name": "stdout",
          "text": [
            "Estimated Causal Effect for perimeter_worst: -0.008197838155489023\n",
            "Running simulation 61/100\n"
          ]
        },
        {
          "output_type": "stream",
          "name": "stderr",
          "text": [
            "WARNING:dowhy.causal_identifier.auto_identifier:Max number of iterations 100000 reached. Could not find a valid backdoor set.\n",
            "/usr/local/lib/python3.10/dist-packages/dowhy/causal_estimators/regression_estimator.py:179: FutureWarning: Series.__getitem__ treating keys as positions is deprecated. In a future version, integer keys will always be treated as labels (consistent with DataFrame behavior). To access a value by position, use `ser.iloc[pos]`\n",
            "  intercept_parameter = self.model.params[0]\n"
          ]
        },
        {
          "output_type": "stream",
          "name": "stdout",
          "text": [
            "Estimated Causal Effect for fractal_dimension_mean: 5.999570281570069\n",
            "Running simulation 62/100\n"
          ]
        },
        {
          "output_type": "stream",
          "name": "stderr",
          "text": [
            "WARNING:dowhy.causal_identifier.auto_identifier:Max number of iterations 100000 reached. Could not find a valid backdoor set.\n",
            "/usr/local/lib/python3.10/dist-packages/dowhy/causal_estimators/regression_estimator.py:179: FutureWarning: Series.__getitem__ treating keys as positions is deprecated. In a future version, integer keys will always be treated as labels (consistent with DataFrame behavior). To access a value by position, use `ser.iloc[pos]`\n",
            "  intercept_parameter = self.model.params[0]\n"
          ]
        },
        {
          "output_type": "stream",
          "name": "stdout",
          "text": [
            "Estimated Causal Effect for fractal_dimension_mean: 5.999570281570069\n",
            "Running simulation 63/100\n"
          ]
        },
        {
          "output_type": "stream",
          "name": "stderr",
          "text": [
            "WARNING:dowhy.causal_identifier.auto_identifier:Max number of iterations 100000 reached. Could not find a valid backdoor set.\n",
            "/usr/local/lib/python3.10/dist-packages/dowhy/causal_estimators/regression_estimator.py:179: FutureWarning: Series.__getitem__ treating keys as positions is deprecated. In a future version, integer keys will always be treated as labels (consistent with DataFrame behavior). To access a value by position, use `ser.iloc[pos]`\n",
            "  intercept_parameter = self.model.params[0]\n"
          ]
        },
        {
          "output_type": "stream",
          "name": "stdout",
          "text": [
            "Estimated Causal Effect for concave points_mean: 4.782443201582993\n",
            "Running simulation 64/100\n"
          ]
        },
        {
          "output_type": "stream",
          "name": "stderr",
          "text": [
            "WARNING:dowhy.causal_identifier.auto_identifier:Max number of iterations 100000 reached. Could not find a valid backdoor set.\n",
            "/usr/local/lib/python3.10/dist-packages/dowhy/causal_estimators/regression_estimator.py:179: FutureWarning: Series.__getitem__ treating keys as positions is deprecated. In a future version, integer keys will always be treated as labels (consistent with DataFrame behavior). To access a value by position, use `ser.iloc[pos]`\n",
            "  intercept_parameter = self.model.params[0]\n"
          ]
        },
        {
          "output_type": "stream",
          "name": "stdout",
          "text": [
            "Estimated Causal Effect for radius_se: 0.396851739061206\n",
            "Running simulation 65/100\n"
          ]
        },
        {
          "output_type": "stream",
          "name": "stderr",
          "text": [
            "WARNING:dowhy.causal_identifier.auto_identifier:Max number of iterations 100000 reached. Could not find a valid backdoor set.\n",
            "/usr/local/lib/python3.10/dist-packages/dowhy/causal_estimators/regression_estimator.py:179: FutureWarning: Series.__getitem__ treating keys as positions is deprecated. In a future version, integer keys will always be treated as labels (consistent with DataFrame behavior). To access a value by position, use `ser.iloc[pos]`\n",
            "  intercept_parameter = self.model.params[0]\n"
          ]
        },
        {
          "output_type": "stream",
          "name": "stdout",
          "text": [
            "Estimated Causal Effect for compactness_worst: 0.8719205517672541\n",
            "Running simulation 66/100\n"
          ]
        },
        {
          "output_type": "stream",
          "name": "stderr",
          "text": [
            "WARNING:dowhy.causal_identifier.auto_identifier:Max number of iterations 100000 reached. Could not find a valid backdoor set.\n",
            "/usr/local/lib/python3.10/dist-packages/dowhy/causal_estimators/regression_estimator.py:179: FutureWarning: Series.__getitem__ treating keys as positions is deprecated. In a future version, integer keys will always be treated as labels (consistent with DataFrame behavior). To access a value by position, use `ser.iloc[pos]`\n",
            "  intercept_parameter = self.model.params[0]\n"
          ]
        },
        {
          "output_type": "stream",
          "name": "stdout",
          "text": [
            "Estimated Causal Effect for perimeter_se: -0.015970088026629747\n",
            "Running simulation 67/100\n"
          ]
        },
        {
          "output_type": "stream",
          "name": "stderr",
          "text": [
            "WARNING:dowhy.causal_identifier.auto_identifier:Max number of iterations 100000 reached. Could not find a valid backdoor set.\n",
            "/usr/local/lib/python3.10/dist-packages/dowhy/causal_estimators/regression_estimator.py:179: FutureWarning: Series.__getitem__ treating keys as positions is deprecated. In a future version, integer keys will always be treated as labels (consistent with DataFrame behavior). To access a value by position, use `ser.iloc[pos]`\n",
            "  intercept_parameter = self.model.params[0]\n"
          ]
        },
        {
          "output_type": "stream",
          "name": "stdout",
          "text": [
            "Estimated Causal Effect for fractal_dimension_se: -5.438548504176314\n",
            "Running simulation 68/100\n"
          ]
        },
        {
          "output_type": "stream",
          "name": "stderr",
          "text": [
            "WARNING:dowhy.causal_identifier.auto_identifier:Max number of iterations 100000 reached. Could not find a valid backdoor set.\n",
            "/usr/local/lib/python3.10/dist-packages/dowhy/causal_estimators/regression_estimator.py:179: FutureWarning: Series.__getitem__ treating keys as positions is deprecated. In a future version, integer keys will always be treated as labels (consistent with DataFrame behavior). To access a value by position, use `ser.iloc[pos]`\n",
            "  intercept_parameter = self.model.params[0]\n"
          ]
        },
        {
          "output_type": "stream",
          "name": "stdout",
          "text": [
            "Estimated Causal Effect for smoothness_mean: -0.908994299556281\n",
            "Running simulation 69/100\n"
          ]
        },
        {
          "output_type": "stream",
          "name": "stderr",
          "text": [
            "WARNING:dowhy.causal_identifier.auto_identifier:Max number of iterations 100000 reached. Could not find a valid backdoor set.\n",
            "/usr/local/lib/python3.10/dist-packages/dowhy/causal_estimators/regression_estimator.py:179: FutureWarning: Series.__getitem__ treating keys as positions is deprecated. In a future version, integer keys will always be treated as labels (consistent with DataFrame behavior). To access a value by position, use `ser.iloc[pos]`\n",
            "  intercept_parameter = self.model.params[0]\n"
          ]
        },
        {
          "output_type": "stream",
          "name": "stdout",
          "text": [
            "Estimated Causal Effect for fractal_dimension_se: -5.438548504176314\n",
            "Running simulation 70/100\n"
          ]
        },
        {
          "output_type": "stream",
          "name": "stderr",
          "text": [
            "WARNING:dowhy.causal_identifier.auto_identifier:Max number of iterations 100000 reached. Could not find a valid backdoor set.\n",
            "/usr/local/lib/python3.10/dist-packages/dowhy/causal_estimators/regression_estimator.py:179: FutureWarning: Series.__getitem__ treating keys as positions is deprecated. In a future version, integer keys will always be treated as labels (consistent with DataFrame behavior). To access a value by position, use `ser.iloc[pos]`\n",
            "  intercept_parameter = self.model.params[0]\n"
          ]
        },
        {
          "output_type": "stream",
          "name": "stdout",
          "text": [
            "Estimated Causal Effect for perimeter_worst: -0.008197838155489023\n",
            "Running simulation 71/100\n"
          ]
        },
        {
          "output_type": "stream",
          "name": "stderr",
          "text": [
            "WARNING:dowhy.causal_identifier.auto_identifier:Max number of iterations 100000 reached. Could not find a valid backdoor set.\n",
            "/usr/local/lib/python3.10/dist-packages/dowhy/causal_estimators/regression_estimator.py:179: FutureWarning: Series.__getitem__ treating keys as positions is deprecated. In a future version, integer keys will always be treated as labels (consistent with DataFrame behavior). To access a value by position, use `ser.iloc[pos]`\n",
            "  intercept_parameter = self.model.params[0]\n"
          ]
        },
        {
          "output_type": "stream",
          "name": "stdout",
          "text": [
            "Estimated Causal Effect for concavity_se: -3.9619643539526974\n",
            "Running simulation 72/100\n"
          ]
        },
        {
          "output_type": "stream",
          "name": "stderr",
          "text": [
            "WARNING:dowhy.causal_identifier.auto_identifier:Max number of iterations 100000 reached. Could not find a valid backdoor set.\n",
            "/usr/local/lib/python3.10/dist-packages/dowhy/causal_estimators/regression_estimator.py:179: FutureWarning: Series.__getitem__ treating keys as positions is deprecated. In a future version, integer keys will always be treated as labels (consistent with DataFrame behavior). To access a value by position, use `ser.iloc[pos]`\n",
            "  intercept_parameter = self.model.params[0]\n"
          ]
        },
        {
          "output_type": "stream",
          "name": "stdout",
          "text": [
            "Estimated Causal Effect for perimeter_mean: 0.025242328841587724\n",
            "Running simulation 73/100\n"
          ]
        },
        {
          "output_type": "stream",
          "name": "stderr",
          "text": [
            "WARNING:dowhy.causal_identifier.auto_identifier:Max number of iterations 100000 reached. Could not find a valid backdoor set.\n",
            "/usr/local/lib/python3.10/dist-packages/dowhy/causal_estimators/regression_estimator.py:179: FutureWarning: Series.__getitem__ treating keys as positions is deprecated. In a future version, integer keys will always be treated as labels (consistent with DataFrame behavior). To access a value by position, use `ser.iloc[pos]`\n",
            "  intercept_parameter = self.model.params[0]\n"
          ]
        },
        {
          "output_type": "stream",
          "name": "stdout",
          "text": [
            "Estimated Causal Effect for compactness_worst: 0.8719205517672541\n",
            "Running simulation 74/100\n"
          ]
        },
        {
          "output_type": "stream",
          "name": "stderr",
          "text": [
            "WARNING:dowhy.causal_identifier.auto_identifier:Max number of iterations 100000 reached. Could not find a valid backdoor set.\n",
            "/usr/local/lib/python3.10/dist-packages/dowhy/causal_estimators/regression_estimator.py:179: FutureWarning: Series.__getitem__ treating keys as positions is deprecated. In a future version, integer keys will always be treated as labels (consistent with DataFrame behavior). To access a value by position, use `ser.iloc[pos]`\n",
            "  intercept_parameter = self.model.params[0]\n"
          ]
        },
        {
          "output_type": "stream",
          "name": "stdout",
          "text": [
            "Estimated Causal Effect for compactness_mean: -5.269154881432373\n",
            "Running simulation 75/100\n"
          ]
        },
        {
          "output_type": "stream",
          "name": "stderr",
          "text": [
            "WARNING:dowhy.causal_identifier.auto_identifier:Max number of iterations 100000 reached. Could not find a valid backdoor set.\n",
            "/usr/local/lib/python3.10/dist-packages/dowhy/causal_estimators/regression_estimator.py:179: FutureWarning: Series.__getitem__ treating keys as positions is deprecated. In a future version, integer keys will always be treated as labels (consistent with DataFrame behavior). To access a value by position, use `ser.iloc[pos]`\n",
            "  intercept_parameter = self.model.params[0]\n"
          ]
        },
        {
          "output_type": "stream",
          "name": "stdout",
          "text": [
            "Estimated Causal Effect for radius_mean: -0.23286460563950762\n",
            "Running simulation 76/100\n"
          ]
        },
        {
          "output_type": "stream",
          "name": "stderr",
          "text": [
            "WARNING:dowhy.causal_identifier.auto_identifier:Max number of iterations 100000 reached. Could not find a valid backdoor set.\n",
            "/usr/local/lib/python3.10/dist-packages/dowhy/causal_estimators/regression_estimator.py:179: FutureWarning: Series.__getitem__ treating keys as positions is deprecated. In a future version, integer keys will always be treated as labels (consistent with DataFrame behavior). To access a value by position, use `ser.iloc[pos]`\n",
            "  intercept_parameter = self.model.params[0]\n"
          ]
        },
        {
          "output_type": "stream",
          "name": "stdout",
          "text": [
            "Estimated Causal Effect for compactness_mean: -5.269154881432373\n",
            "Running simulation 77/100\n"
          ]
        },
        {
          "output_type": "stream",
          "name": "stderr",
          "text": [
            "WARNING:dowhy.causal_identifier.auto_identifier:Max number of iterations 100000 reached. Could not find a valid backdoor set.\n",
            "/usr/local/lib/python3.10/dist-packages/dowhy/causal_estimators/regression_estimator.py:179: FutureWarning: Series.__getitem__ treating keys as positions is deprecated. In a future version, integer keys will always be treated as labels (consistent with DataFrame behavior). To access a value by position, use `ser.iloc[pos]`\n",
            "  intercept_parameter = self.model.params[0]\n"
          ]
        },
        {
          "output_type": "stream",
          "name": "stdout",
          "text": [
            "Estimated Causal Effect for symmetry_mean: 0.7383308503491511\n",
            "Running simulation 78/100\n"
          ]
        },
        {
          "output_type": "stream",
          "name": "stderr",
          "text": [
            "WARNING:dowhy.causal_identifier.auto_identifier:Max number of iterations 100000 reached. Could not find a valid backdoor set.\n",
            "/usr/local/lib/python3.10/dist-packages/dowhy/causal_estimators/regression_estimator.py:179: FutureWarning: Series.__getitem__ treating keys as positions is deprecated. In a future version, integer keys will always be treated as labels (consistent with DataFrame behavior). To access a value by position, use `ser.iloc[pos]`\n",
            "  intercept_parameter = self.model.params[0]\n"
          ]
        },
        {
          "output_type": "stream",
          "name": "stdout",
          "text": [
            "Estimated Causal Effect for texture_mean: -0.0014917771945219815\n",
            "Running simulation 79/100\n"
          ]
        },
        {
          "output_type": "stream",
          "name": "stderr",
          "text": [
            "WARNING:dowhy.causal_identifier.auto_identifier:Max number of iterations 100000 reached. Could not find a valid backdoor set.\n",
            "/usr/local/lib/python3.10/dist-packages/dowhy/causal_estimators/regression_estimator.py:179: FutureWarning: Series.__getitem__ treating keys as positions is deprecated. In a future version, integer keys will always be treated as labels (consistent with DataFrame behavior). To access a value by position, use `ser.iloc[pos]`\n",
            "  intercept_parameter = self.model.params[0]\n"
          ]
        },
        {
          "output_type": "stream",
          "name": "stdout",
          "text": [
            "Estimated Causal Effect for area_worst: -0.0010768756345569397\n",
            "Running simulation 80/100\n"
          ]
        },
        {
          "output_type": "stream",
          "name": "stderr",
          "text": [
            "WARNING:dowhy.causal_identifier.auto_identifier:Max number of iterations 100000 reached. Could not find a valid backdoor set.\n",
            "/usr/local/lib/python3.10/dist-packages/dowhy/causal_estimators/regression_estimator.py:179: FutureWarning: Series.__getitem__ treating keys as positions is deprecated. In a future version, integer keys will always be treated as labels (consistent with DataFrame behavior). To access a value by position, use `ser.iloc[pos]`\n",
            "  intercept_parameter = self.model.params[0]\n"
          ]
        },
        {
          "output_type": "stream",
          "name": "stdout",
          "text": [
            "Estimated Causal Effect for concavity_worst: 0.5711473062321287\n",
            "Running simulation 81/100\n"
          ]
        },
        {
          "output_type": "stream",
          "name": "stderr",
          "text": [
            "WARNING:dowhy.causal_identifier.auto_identifier:Max number of iterations 100000 reached. Could not find a valid backdoor set.\n",
            "/usr/local/lib/python3.10/dist-packages/dowhy/causal_estimators/regression_estimator.py:179: FutureWarning: Series.__getitem__ treating keys as positions is deprecated. In a future version, integer keys will always be treated as labels (consistent with DataFrame behavior). To access a value by position, use `ser.iloc[pos]`\n",
            "  intercept_parameter = self.model.params[0]\n"
          ]
        },
        {
          "output_type": "stream",
          "name": "stdout",
          "text": [
            "Estimated Causal Effect for compactness_worst: 0.8719205517672541\n",
            "Running simulation 82/100\n"
          ]
        },
        {
          "output_type": "stream",
          "name": "stderr",
          "text": [
            "WARNING:dowhy.causal_identifier.auto_identifier:Max number of iterations 100000 reached. Could not find a valid backdoor set.\n",
            "/usr/local/lib/python3.10/dist-packages/dowhy/causal_estimators/regression_estimator.py:179: FutureWarning: Series.__getitem__ treating keys as positions is deprecated. In a future version, integer keys will always be treated as labels (consistent with DataFrame behavior). To access a value by position, use `ser.iloc[pos]`\n",
            "  intercept_parameter = self.model.params[0]\n"
          ]
        },
        {
          "output_type": "stream",
          "name": "stdout",
          "text": [
            "Estimated Causal Effect for perimeter_worst: -0.008197838155489023\n",
            "Running simulation 83/100\n"
          ]
        },
        {
          "output_type": "stream",
          "name": "stderr",
          "text": [
            "WARNING:dowhy.causal_identifier.auto_identifier:Max number of iterations 100000 reached. Could not find a valid backdoor set.\n",
            "/usr/local/lib/python3.10/dist-packages/dowhy/causal_estimators/regression_estimator.py:179: FutureWarning: Series.__getitem__ treating keys as positions is deprecated. In a future version, integer keys will always be treated as labels (consistent with DataFrame behavior). To access a value by position, use `ser.iloc[pos]`\n",
            "  intercept_parameter = self.model.params[0]\n"
          ]
        },
        {
          "output_type": "stream",
          "name": "stdout",
          "text": [
            "Estimated Causal Effect for fractal_dimension_worst: 1.7568472916224955\n",
            "Running simulation 84/100\n"
          ]
        },
        {
          "output_type": "stream",
          "name": "stderr",
          "text": [
            "WARNING:dowhy.causal_identifier.auto_identifier:Max number of iterations 100000 reached. Could not find a valid backdoor set.\n",
            "/usr/local/lib/python3.10/dist-packages/dowhy/causal_estimators/regression_estimator.py:179: FutureWarning: Series.__getitem__ treating keys as positions is deprecated. In a future version, integer keys will always be treated as labels (consistent with DataFrame behavior). To access a value by position, use `ser.iloc[pos]`\n",
            "  intercept_parameter = self.model.params[0]\n"
          ]
        },
        {
          "output_type": "stream",
          "name": "stdout",
          "text": [
            "Estimated Causal Effect for smoothness_mean: -0.908994299556281\n",
            "Running simulation 85/100\n"
          ]
        },
        {
          "output_type": "stream",
          "name": "stderr",
          "text": [
            "WARNING:dowhy.causal_identifier.auto_identifier:Max number of iterations 100000 reached. Could not find a valid backdoor set.\n",
            "/usr/local/lib/python3.10/dist-packages/dowhy/causal_estimators/regression_estimator.py:179: FutureWarning: Series.__getitem__ treating keys as positions is deprecated. In a future version, integer keys will always be treated as labels (consistent with DataFrame behavior). To access a value by position, use `ser.iloc[pos]`\n",
            "  intercept_parameter = self.model.params[0]\n"
          ]
        },
        {
          "output_type": "stream",
          "name": "stdout",
          "text": [
            "Estimated Causal Effect for compactness_se: -2.5149282530750465\n",
            "Running simulation 86/100\n"
          ]
        },
        {
          "output_type": "stream",
          "name": "stderr",
          "text": [
            "WARNING:dowhy.causal_identifier.auto_identifier:Max number of iterations 100000 reached. Could not find a valid backdoor set.\n",
            "/usr/local/lib/python3.10/dist-packages/dowhy/causal_estimators/regression_estimator.py:179: FutureWarning: Series.__getitem__ treating keys as positions is deprecated. In a future version, integer keys will always be treated as labels (consistent with DataFrame behavior). To access a value by position, use `ser.iloc[pos]`\n",
            "  intercept_parameter = self.model.params[0]\n"
          ]
        },
        {
          "output_type": "stream",
          "name": "stdout",
          "text": [
            "Estimated Causal Effect for concave points_mean: 4.782443201582993\n",
            "Running simulation 87/100\n"
          ]
        },
        {
          "output_type": "stream",
          "name": "stderr",
          "text": [
            "WARNING:dowhy.causal_identifier.auto_identifier:Max number of iterations 100000 reached. Could not find a valid backdoor set.\n",
            "/usr/local/lib/python3.10/dist-packages/dowhy/causal_estimators/regression_estimator.py:179: FutureWarning: Series.__getitem__ treating keys as positions is deprecated. In a future version, integer keys will always be treated as labels (consistent with DataFrame behavior). To access a value by position, use `ser.iloc[pos]`\n",
            "  intercept_parameter = self.model.params[0]\n"
          ]
        },
        {
          "output_type": "stream",
          "name": "stdout",
          "text": [
            "Estimated Causal Effect for radius_mean: -0.23286460563950762\n",
            "Running simulation 88/100\n"
          ]
        },
        {
          "output_type": "stream",
          "name": "stderr",
          "text": [
            "WARNING:dowhy.causal_identifier.auto_identifier:Max number of iterations 100000 reached. Could not find a valid backdoor set.\n",
            "/usr/local/lib/python3.10/dist-packages/dowhy/causal_estimators/regression_estimator.py:179: FutureWarning: Series.__getitem__ treating keys as positions is deprecated. In a future version, integer keys will always be treated as labels (consistent with DataFrame behavior). To access a value by position, use `ser.iloc[pos]`\n",
            "  intercept_parameter = self.model.params[0]\n"
          ]
        },
        {
          "output_type": "stream",
          "name": "stdout",
          "text": [
            "Estimated Causal Effect for concave points_se: 17.231472782589023\n",
            "Running simulation 89/100\n"
          ]
        },
        {
          "output_type": "stream",
          "name": "stderr",
          "text": [
            "WARNING:dowhy.causal_identifier.auto_identifier:Max number of iterations 100000 reached. Could not find a valid backdoor set.\n",
            "/usr/local/lib/python3.10/dist-packages/dowhy/causal_estimators/regression_estimator.py:179: FutureWarning: Series.__getitem__ treating keys as positions is deprecated. In a future version, integer keys will always be treated as labels (consistent with DataFrame behavior). To access a value by position, use `ser.iloc[pos]`\n",
            "  intercept_parameter = self.model.params[0]\n"
          ]
        },
        {
          "output_type": "stream",
          "name": "stdout",
          "text": [
            "Estimated Causal Effect for fractal_dimension_mean: 5.999570281570069\n",
            "Running simulation 90/100\n"
          ]
        },
        {
          "output_type": "stream",
          "name": "stderr",
          "text": [
            "WARNING:dowhy.causal_identifier.auto_identifier:Max number of iterations 100000 reached. Could not find a valid backdoor set.\n",
            "/usr/local/lib/python3.10/dist-packages/dowhy/causal_estimators/regression_estimator.py:179: FutureWarning: Series.__getitem__ treating keys as positions is deprecated. In a future version, integer keys will always be treated as labels (consistent with DataFrame behavior). To access a value by position, use `ser.iloc[pos]`\n",
            "  intercept_parameter = self.model.params[0]\n"
          ]
        },
        {
          "output_type": "stream",
          "name": "stdout",
          "text": [
            "Estimated Causal Effect for perimeter_mean: 0.025242328841587724\n",
            "Running simulation 91/100\n"
          ]
        },
        {
          "output_type": "stream",
          "name": "stderr",
          "text": [
            "WARNING:dowhy.causal_identifier.auto_identifier:Max number of iterations 100000 reached. Could not find a valid backdoor set.\n",
            "/usr/local/lib/python3.10/dist-packages/dowhy/causal_estimators/regression_estimator.py:179: FutureWarning: Series.__getitem__ treating keys as positions is deprecated. In a future version, integer keys will always be treated as labels (consistent with DataFrame behavior). To access a value by position, use `ser.iloc[pos]`\n",
            "  intercept_parameter = self.model.params[0]\n"
          ]
        },
        {
          "output_type": "stream",
          "name": "stdout",
          "text": [
            "Estimated Causal Effect for fractal_dimension_worst: 1.7568472916224955\n",
            "Running simulation 92/100\n"
          ]
        },
        {
          "output_type": "stream",
          "name": "stderr",
          "text": [
            "WARNING:dowhy.causal_identifier.auto_identifier:Max number of iterations 100000 reached. Could not find a valid backdoor set.\n",
            "/usr/local/lib/python3.10/dist-packages/dowhy/causal_estimators/regression_estimator.py:179: FutureWarning: Series.__getitem__ treating keys as positions is deprecated. In a future version, integer keys will always be treated as labels (consistent with DataFrame behavior). To access a value by position, use `ser.iloc[pos]`\n",
            "  intercept_parameter = self.model.params[0]\n"
          ]
        },
        {
          "output_type": "stream",
          "name": "stdout",
          "text": [
            "Estimated Causal Effect for symmetry_se: 3.297865634856487\n",
            "Running simulation 93/100\n"
          ]
        },
        {
          "output_type": "stream",
          "name": "stderr",
          "text": [
            "WARNING:dowhy.causal_identifier.auto_identifier:Max number of iterations 100000 reached. Could not find a valid backdoor set.\n",
            "/usr/local/lib/python3.10/dist-packages/dowhy/causal_estimators/regression_estimator.py:179: FutureWarning: Series.__getitem__ treating keys as positions is deprecated. In a future version, integer keys will always be treated as labels (consistent with DataFrame behavior). To access a value by position, use `ser.iloc[pos]`\n",
            "  intercept_parameter = self.model.params[0]\n"
          ]
        },
        {
          "output_type": "stream",
          "name": "stdout",
          "text": [
            "Estimated Causal Effect for smoothness_se: 15.685965657660061\n",
            "Running simulation 94/100\n"
          ]
        },
        {
          "output_type": "stream",
          "name": "stderr",
          "text": [
            "WARNING:dowhy.causal_identifier.auto_identifier:Max number of iterations 100000 reached. Could not find a valid backdoor set.\n",
            "/usr/local/lib/python3.10/dist-packages/dowhy/causal_estimators/regression_estimator.py:179: FutureWarning: Series.__getitem__ treating keys as positions is deprecated. In a future version, integer keys will always be treated as labels (consistent with DataFrame behavior). To access a value by position, use `ser.iloc[pos]`\n",
            "  intercept_parameter = self.model.params[0]\n"
          ]
        },
        {
          "output_type": "stream",
          "name": "stdout",
          "text": [
            "Estimated Causal Effect for smoothness_worst: 0.6021511983773997\n",
            "Running simulation 95/100\n"
          ]
        },
        {
          "output_type": "stream",
          "name": "stderr",
          "text": [
            "WARNING:dowhy.causal_identifier.auto_identifier:Max number of iterations 100000 reached. Could not find a valid backdoor set.\n",
            "/usr/local/lib/python3.10/dist-packages/dowhy/causal_estimators/regression_estimator.py:179: FutureWarning: Series.__getitem__ treating keys as positions is deprecated. In a future version, integer keys will always be treated as labels (consistent with DataFrame behavior). To access a value by position, use `ser.iloc[pos]`\n",
            "  intercept_parameter = self.model.params[0]\n"
          ]
        },
        {
          "output_type": "stream",
          "name": "stdout",
          "text": [
            "Estimated Causal Effect for symmetry_se: 3.297865634856487\n",
            "Running simulation 96/100\n"
          ]
        },
        {
          "output_type": "stream",
          "name": "stderr",
          "text": [
            "WARNING:dowhy.causal_identifier.auto_identifier:Max number of iterations 100000 reached. Could not find a valid backdoor set.\n",
            "/usr/local/lib/python3.10/dist-packages/dowhy/causal_estimators/regression_estimator.py:179: FutureWarning: Series.__getitem__ treating keys as positions is deprecated. In a future version, integer keys will always be treated as labels (consistent with DataFrame behavior). To access a value by position, use `ser.iloc[pos]`\n",
            "  intercept_parameter = self.model.params[0]\n"
          ]
        },
        {
          "output_type": "stream",
          "name": "stdout",
          "text": [
            "Estimated Causal Effect for perimeter_se: -0.015970088026629747\n",
            "Running simulation 97/100\n"
          ]
        },
        {
          "output_type": "stream",
          "name": "stderr",
          "text": [
            "WARNING:dowhy.causal_identifier.auto_identifier:Max number of iterations 100000 reached. Could not find a valid backdoor set.\n",
            "/usr/local/lib/python3.10/dist-packages/dowhy/causal_estimators/regression_estimator.py:179: FutureWarning: Series.__getitem__ treating keys as positions is deprecated. In a future version, integer keys will always be treated as labels (consistent with DataFrame behavior). To access a value by position, use `ser.iloc[pos]`\n",
            "  intercept_parameter = self.model.params[0]\n"
          ]
        },
        {
          "output_type": "stream",
          "name": "stdout",
          "text": [
            "Estimated Causal Effect for fractal_dimension_se: -5.438548504176314\n",
            "Running simulation 98/100\n"
          ]
        },
        {
          "output_type": "stream",
          "name": "stderr",
          "text": [
            "WARNING:dowhy.causal_identifier.auto_identifier:Max number of iterations 100000 reached. Could not find a valid backdoor set.\n",
            "/usr/local/lib/python3.10/dist-packages/dowhy/causal_estimators/regression_estimator.py:179: FutureWarning: Series.__getitem__ treating keys as positions is deprecated. In a future version, integer keys will always be treated as labels (consistent with DataFrame behavior). To access a value by position, use `ser.iloc[pos]`\n",
            "  intercept_parameter = self.model.params[0]\n"
          ]
        },
        {
          "output_type": "stream",
          "name": "stdout",
          "text": [
            "Estimated Causal Effect for compactness_worst: 0.8719205517672541\n",
            "Running simulation 99/100\n"
          ]
        },
        {
          "output_type": "stream",
          "name": "stderr",
          "text": [
            "WARNING:dowhy.causal_identifier.auto_identifier:Max number of iterations 100000 reached. Could not find a valid backdoor set.\n",
            "/usr/local/lib/python3.10/dist-packages/dowhy/causal_estimators/regression_estimator.py:179: FutureWarning: Series.__getitem__ treating keys as positions is deprecated. In a future version, integer keys will always be treated as labels (consistent with DataFrame behavior). To access a value by position, use `ser.iloc[pos]`\n",
            "  intercept_parameter = self.model.params[0]\n"
          ]
        },
        {
          "output_type": "stream",
          "name": "stdout",
          "text": [
            "Estimated Causal Effect for smoothness_mean: -0.908994299556281\n",
            "Running simulation 100/100\n"
          ]
        },
        {
          "output_type": "stream",
          "name": "stderr",
          "text": [
            "WARNING:dowhy.causal_identifier.auto_identifier:Max number of iterations 100000 reached. Could not find a valid backdoor set.\n"
          ]
        },
        {
          "output_type": "stream",
          "name": "stdout",
          "text": [
            "Estimated Causal Effect for fractal_dimension_worst: 1.7568472916224955\n",
            "Summary Statistics of Causal Effects for Each Feature:\n",
            "                              mean  std  count\n",
            "feature                                       \n",
            "area_se                  -0.000969  NaN      1\n",
            "area_worst               -0.001077  0.0      7\n",
            "compactness_mean         -5.269155  0.0      4\n",
            "compactness_se           -2.514928  0.0      4\n",
            "compactness_worst         0.871921  0.0      6\n",
            "concave points_mean       4.782443  0.0      7\n",
            "concave points_se        17.231473  0.0      5\n",
            "concave points_worst     -1.170191  0.0      3\n",
            "concavity_mean            0.986800  0.0      2\n",
            "concavity_se             -3.961964  0.0      2\n",
            "concavity_worst           0.571147  0.0      2\n",
            "fractal_dimension_mean    5.999570  0.0      4\n",
            "fractal_dimension_se     -5.438549  0.0      4\n",
            "fractal_dimension_worst   1.756847  0.0      3\n",
            "perimeter_mean            0.025242  0.0      3\n",
            "perimeter_se             -0.015970  0.0      3\n",
            "perimeter_worst          -0.008198  0.0      7\n",
            "radius_mean              -0.232865  0.0      5\n",
            "radius_se                 0.396852  0.0      6\n",
            "radius_worst              0.233912  0.0      2\n",
            "smoothness_mean          -0.908994  0.0      4\n",
            "smoothness_se            15.685966  0.0      3\n",
            "smoothness_worst          0.602151  0.0      2\n",
            "symmetry_mean             0.738331  NaN      1\n",
            "symmetry_se               3.297866  0.0      4\n",
            "texture_mean             -0.001492  0.0      2\n",
            "texture_se               -0.040670  0.0      2\n",
            "texture_worst             0.013918  0.0      2\n"
          ]
        },
        {
          "output_type": "stream",
          "name": "stderr",
          "text": [
            "/usr/local/lib/python3.10/dist-packages/dowhy/causal_estimators/regression_estimator.py:179: FutureWarning: Series.__getitem__ treating keys as positions is deprecated. In a future version, integer keys will always be treated as labels (consistent with DataFrame behavior). To access a value by position, use `ser.iloc[pos]`\n",
            "  intercept_parameter = self.model.params[0]\n"
          ]
        }
      ]
    },
    {
      "cell_type": "markdown",
      "source": [
        "**Visualize the distribution of causal effects for each feature**\n",
        "# -----------------------------------------------------------\n",
        "In this step, we plot a histogram to visualize the distribution of causal effects for each feature."
      ],
      "metadata": {
        "id": "1a1f_pLO22DQ"
      }
    },
    {
      "cell_type": "code",
      "source": [
        "def plot_causal_effects(causal_results):\n",
        "    plt.figure(figsize=(12, 6))\n",
        "    for feature in causal_results['feature'].unique():\n",
        "        feature_data = causal_results[causal_results['feature'] == feature]\n",
        "        plt.hist(feature_data['causal_effect'], bins=20, alpha=0.5, label=feature)\n",
        "\n",
        "    plt.title('Distribution of Estimated Causal Effects by Feature')\n",
        "    plt.xlabel('Causal Effect')\n",
        "    plt.ylabel('Frequency')\n",
        "    plt.legend()\n",
        "    plt.show()\n",
        "\n",
        "plot_causal_effects(simulation_results)\n"
      ],
      "metadata": {
        "id": "EDGIKksD3BOf",
        "colab": {
          "base_uri": "https://localhost:8080/",
          "height": 681
        },
        "outputId": "2f68cc27-6c8d-4d14-a865-bd888a90ab4d"
      },
      "execution_count": null,
      "outputs": [
        {
          "output_type": "display_data",
          "data": {
            "text/plain": [
              "<Figure size 1200x600 with 1 Axes>"
            ],
            "image/png": "[encoded data removed]"
          },
          "metadata": {}
        }
      ]
    },
    {
      "cell_type": "markdown",
      "source": [
        "**After Visualising this plot and the summary table we understand that :**\n",
        "\n",
        "The features: concave_points_se ,smoothness_se ,fractal_dimension_mean ,concave_points_mean ,symmetry_se ,fractal_dimension_worst ,compactness_worst ,symmetry_mean ,concavity_mean ,smoothness_worst ,concavity_worst ,radius_se and radius_worst have an effective positive causal effect.\n",
        "Furthermore ,the features:fractal_dimension_se ,compactness_mean ,concavity_se ,radius_mean ,smoothness_mean and concave points_worst have an effective negative causal effect.\n",
        "\n",
        "The features:area_worst ,texture_mean ,perimeter_mean ,texture_worst ,perimeter_se ,texture_se ,perimeter_worst and area_se have a negligible impact on the diagnosis and hence can be ommitted when dimensionality reduction or feature reduction needs to be done without loss of information and major changes in the accuracy of prediction using any model.(GNN in our case)\n",
        "\n",
        "This effect is for predicting whether the breast cancer is malignant or not.\n"
      ],
      "metadata": {
        "id": "VR65nK1b3zuv"
      }
    },
    {
      "cell_type": "markdown",
      "source": [
        "**Monte Carlo Simulation for Prediction Uncertainty (Optional)**\n",
        "# --------------------------------------------------------------------\n",
        "This optional step involves running a Monte Carlo simulation for prediction uncertainty. We generate multiple predictions to assess the variability in predictions.This is an additional step we did to ensure robustness of the prediction if the model."
      ],
      "metadata": {
        "id": "F0o02vJA3GTE"
      }
    },
    {
      "cell_type": "code",
      "source": [
        "def monte_carlo_prediction_uncertainty(num_simulations=100):\n",
        "    model.eval()  # Set the model to evaluation mode\n",
        "    predictions = []\n",
        "\n",
        "    for _ in range(num_simulations):\n",
        "        with torch.no_grad():\n",
        "            # Forward pass through the model for all nodes in the data\n",
        "            out = model(test_data.x, test_data.edge_index)\n",
        "            predictions.append(out.cpu().numpy())  # Store raw predictions for uncertainty calculation\n",
        "\n",
        "    # Convert predictions to a numpy array for easier manipulation\n",
        "    predictions = np.array(predictions)\n",
        "    mean_predictions = np.mean(predictions, axis=0)  # Mean prediction over all simulations\n",
        "    uncertainty = np.std(predictions, axis=0)  # Standard deviation as a measure of uncertainty\n",
        "\n",
        "    return mean_predictions, uncertainty\n"
      ],
      "metadata": {
        "id": "ur9h--T33byo"
      },
      "execution_count": null,
      "outputs": []
    },
    {
      "cell_type": "code",
      "source": [
        "# The simulation is run to calculate the mean predictions and their uncertainty across multiple simulations.\n",
        "mean_preds, uncertainties = monte_carlo_prediction_uncertainty()\n",
        "print(\"Mean Predictions:\", mean_preds)\n",
        "print(\"Prediction Uncertainties:\", uncertainties)"
      ],
      "metadata": {
        "id": "dsgWKZkg3tcE",
        "colab": {
          "base_uri": "https://localhost:8080/"
        },
        "outputId": "dcf592b2-da3d-4122-f78c-328bef47389b"
      },
      "execution_count": null,
      "outputs": [
        {
          "output_type": "stream",
          "name": "stdout",
          "text": [
            "Mean Predictions: [[-4.1505713e+00 -1.5880905e-02]\n",
            " [-1.0903578e+01 -1.8358083e-05]\n",
            " [-1.4707150e+01 -3.5762784e-07]\n",
            " [-1.6343740e+01 -1.1920928e-07]\n",
            " [-1.7126101e+01  0.0000000e+00]\n",
            " [-1.7956429e+01  0.0000000e+00]\n",
            " [-1.8934450e+01  0.0000000e+00]\n",
            " [-1.9670042e+01  0.0000000e+00]\n",
            " [-2.0177513e+01  0.0000000e+00]\n",
            " [-2.0539675e+01  0.0000000e+00]\n",
            " [-2.0787203e+01  0.0000000e+00]\n",
            " [-2.1025389e+01  0.0000000e+00]\n",
            " [-2.1187895e+01  0.0000000e+00]\n",
            " [-2.1297451e+01  0.0000000e+00]\n",
            " [-2.1369631e+01  0.0000000e+00]\n",
            " [-2.1403191e+01  0.0000000e+00]\n",
            " [-2.1407625e+01  0.0000000e+00]\n",
            " [-2.1389137e+01  0.0000000e+00]\n",
            " [-2.1355335e+01  0.0000000e+00]\n",
            " [-2.1346796e+01  0.0000000e+00]\n",
            " [-2.1339485e+01  0.0000000e+00]\n",
            " [-2.1322399e+01  0.0000000e+00]\n",
            " [-2.1340574e+01  0.0000000e+00]\n",
            " [-2.1346813e+01  0.0000000e+00]\n",
            " [-2.1340691e+01  0.0000000e+00]\n",
            " [-2.1322268e+01  0.0000000e+00]\n",
            " [-2.1296276e+01  0.0000000e+00]\n",
            " [-2.1262230e+01  0.0000000e+00]\n",
            " [-2.1222990e+01  0.0000000e+00]\n",
            " [-2.1213007e+01  0.0000000e+00]\n",
            " [-2.1196383e+01  0.0000000e+00]\n",
            " [-2.1175182e+01  0.0000000e+00]\n",
            " [-2.1149769e+01  0.0000000e+00]\n",
            " [-2.1125357e+01  0.0000000e+00]\n",
            " [-2.1097265e+01  0.0000000e+00]\n",
            " [-2.1066740e+01  0.0000000e+00]\n",
            " [-2.1041138e+01  0.0000000e+00]\n",
            " [-2.1012941e+01  0.0000000e+00]\n",
            " [-2.0995598e+01  0.0000000e+00]\n",
            " [-2.0976082e+01  0.0000000e+00]\n",
            " [-2.0953856e+01  0.0000000e+00]\n",
            " [-2.0934231e+01  0.0000000e+00]\n",
            " [-2.0912226e+01  0.0000000e+00]\n",
            " [-2.0889063e+01  0.0000000e+00]\n",
            " [-2.0862417e+01  0.0000000e+00]\n",
            " [-2.0834959e+01  0.0000000e+00]\n",
            " [-2.0806128e+01  0.0000000e+00]\n",
            " [-2.0775484e+01  0.0000000e+00]\n",
            " [-2.0744627e+01  0.0000000e+00]\n",
            " [-2.0712374e+01  0.0000000e+00]\n",
            " [-2.0686060e+01  0.0000000e+00]\n",
            " [-2.0665308e+01  0.0000000e+00]\n",
            " [-2.0643440e+01  0.0000000e+00]\n",
            " [-2.0619482e+01  0.0000000e+00]\n",
            " [-2.0594353e+01  0.0000000e+00]\n",
            " [-2.0569206e+01  0.0000000e+00]\n",
            " [-2.0543091e+01  0.0000000e+00]\n",
            " [-2.0521736e+01  0.0000000e+00]\n",
            " [-2.0500608e+01  0.0000000e+00]\n",
            " [-2.0478615e+01  0.0000000e+00]\n",
            " [-2.0456057e+01  0.0000000e+00]\n",
            " [-2.0436668e+01  0.0000000e+00]\n",
            " [-2.0419683e+01  0.0000000e+00]\n",
            " [-2.0401606e+01  0.0000000e+00]\n",
            " [-2.0382566e+01  0.0000000e+00]\n",
            " [-2.0363167e+01  0.0000000e+00]\n",
            " [-2.0347044e+01  0.0000000e+00]\n",
            " [-2.0331398e+01  0.0000000e+00]\n",
            " [-2.0314789e+01  0.0000000e+00]\n",
            " [-2.0297707e+01  0.0000000e+00]\n",
            " [-2.0280663e+01  0.0000000e+00]\n",
            " [-2.0266596e+01  0.0000000e+00]\n",
            " [-2.0251558e+01  0.0000000e+00]\n",
            " [-2.0235937e+01  0.0000000e+00]\n",
            " [-2.0219734e+01  0.0000000e+00]\n",
            " [-2.0203253e+01  0.0000000e+00]\n",
            " [-2.0186277e+01  0.0000000e+00]\n",
            " [-2.0169680e+01  0.0000000e+00]\n",
            " [-2.0152679e+01  0.0000000e+00]\n",
            " [-2.0135162e+01  0.0000000e+00]\n",
            " [-2.0118919e+01  0.0000000e+00]\n",
            " [-2.0102411e+01  0.0000000e+00]\n",
            " [-2.0085665e+01  0.0000000e+00]\n",
            " [-2.0071297e+01  0.0000000e+00]\n",
            " [-2.0057587e+01  0.0000000e+00]\n",
            " [-2.0043795e+01  0.0000000e+00]\n",
            " [-2.0030424e+01  0.0000000e+00]\n",
            " [-2.0018309e+01  0.0000000e+00]\n",
            " [-2.0005487e+01  0.0000000e+00]\n",
            " [-1.9992189e+01  0.0000000e+00]\n",
            " [-1.9978731e+01  0.0000000e+00]\n",
            " [-1.9965302e+01  0.0000000e+00]\n",
            " [-1.9951807e+01  0.0000000e+00]\n",
            " [-1.9937773e+01  0.0000000e+00]\n",
            " [-1.9923243e+01  0.0000000e+00]\n",
            " [-1.9908442e+01  0.0000000e+00]\n",
            " [-1.9894533e+01  0.0000000e+00]\n",
            " [-1.9882475e+01  0.0000000e+00]\n",
            " [-1.9870024e+01  0.0000000e+00]\n",
            " [-1.9858248e+01  0.0000000e+00]\n",
            " [-1.9847898e+01  0.0000000e+00]\n",
            " [-1.9837183e+01  0.0000000e+00]\n",
            " [-1.9828005e+01  0.0000000e+00]\n",
            " [-1.9819450e+01  0.0000000e+00]\n",
            " [-1.9810671e+01  0.0000000e+00]\n",
            " [-1.9801733e+01  0.0000000e+00]\n",
            " [-1.9792383e+01  0.0000000e+00]\n",
            " [-1.9786139e+01  0.0000000e+00]\n",
            " [-1.9779566e+01  0.0000000e+00]\n",
            " [-1.9772942e+01  0.0000000e+00]\n",
            " [-1.9766870e+01  0.0000000e+00]\n",
            " [-1.9760498e+01  0.0000000e+00]\n",
            " [-1.9753881e+01  0.0000000e+00]\n",
            " [-1.9753777e+01  0.0000000e+00]]\n",
            "Prediction Uncertainties: [[5.24520874e-06 1.49011612e-08]\n",
            " [1.04904175e-05 2.18278728e-11]\n",
            " [6.67572021e-06 2.84217094e-14]\n",
            " [1.52587891e-05 0.00000000e+00]\n",
            " [0.00000000e+00 0.00000000e+00]\n",
            " [1.71661377e-05 0.00000000e+00]\n",
            " [1.14440918e-05 0.00000000e+00]\n",
            " [5.72204590e-06 0.00000000e+00]\n",
            " [1.52587891e-05 0.00000000e+00]\n",
            " [9.53674316e-06 0.00000000e+00]\n",
            " [1.90734863e-05 0.00000000e+00]\n",
            " [7.62939453e-06 0.00000000e+00]\n",
            " [1.52587891e-05 0.00000000e+00]\n",
            " [1.90734863e-05 0.00000000e+00]\n",
            " [1.14440918e-05 0.00000000e+00]\n",
            " [3.81469727e-06 0.00000000e+00]\n",
            " [1.71661377e-05 0.00000000e+00]\n",
            " [1.52587891e-05 0.00000000e+00]\n",
            " [7.62939453e-06 0.00000000e+00]\n",
            " [5.72204590e-06 0.00000000e+00]\n",
            " [0.00000000e+00 0.00000000e+00]\n",
            " [1.14440918e-05 0.00000000e+00]\n",
            " [9.53674316e-06 0.00000000e+00]\n",
            " [1.14440918e-05 0.00000000e+00]\n",
            " [3.81469727e-06 0.00000000e+00]\n",
            " [9.53674316e-06 0.00000000e+00]\n",
            " [1.14440918e-05 0.00000000e+00]\n",
            " [1.14440918e-05 0.00000000e+00]\n",
            " [1.33514404e-05 0.00000000e+00]\n",
            " [1.90734863e-06 0.00000000e+00]\n",
            " [1.33514404e-05 0.00000000e+00]\n",
            " [1.52587891e-05 0.00000000e+00]\n",
            " [1.90734863e-05 0.00000000e+00]\n",
            " [9.53674316e-06 0.00000000e+00]\n",
            " [9.53674316e-06 0.00000000e+00]\n",
            " [2.09808350e-05 0.00000000e+00]\n",
            " [0.00000000e+00 0.00000000e+00]\n",
            " [9.53674316e-06 0.00000000e+00]\n",
            " [2.28881836e-05 0.00000000e+00]\n",
            " [2.28881836e-05 0.00000000e+00]\n",
            " [1.33514404e-05 0.00000000e+00]\n",
            " [1.52587891e-05 0.00000000e+00]\n",
            " [1.90734863e-06 0.00000000e+00]\n",
            " [9.53674316e-06 0.00000000e+00]\n",
            " [2.09808350e-05 0.00000000e+00]\n",
            " [5.72204590e-06 0.00000000e+00]\n",
            " [9.53674316e-06 0.00000000e+00]\n",
            " [2.09808350e-05 0.00000000e+00]\n",
            " [1.33514404e-05 0.00000000e+00]\n",
            " [2.47955322e-05 0.00000000e+00]\n",
            " [1.71661377e-05 0.00000000e+00]\n",
            " [9.53674316e-06 0.00000000e+00]\n",
            " [1.90734863e-05 0.00000000e+00]\n",
            " [1.71661377e-05 0.00000000e+00]\n",
            " [1.52587891e-05 0.00000000e+00]\n",
            " [1.90734863e-05 0.00000000e+00]\n",
            " [0.00000000e+00 0.00000000e+00]\n",
            " [1.14440918e-05 0.00000000e+00]\n",
            " [1.90734863e-06 0.00000000e+00]\n",
            " [1.14440918e-05 0.00000000e+00]\n",
            " [5.72204590e-06 0.00000000e+00]\n",
            " [1.14440918e-05 0.00000000e+00]\n",
            " [1.33514404e-05 0.00000000e+00]\n",
            " [1.33514404e-05 0.00000000e+00]\n",
            " [1.90734863e-06 0.00000000e+00]\n",
            " [2.28881836e-05 0.00000000e+00]\n",
            " [9.53674316e-06 0.00000000e+00]\n",
            " [1.52587891e-05 0.00000000e+00]\n",
            " [2.67028809e-05 0.00000000e+00]\n",
            " [1.52587891e-05 0.00000000e+00]\n",
            " [1.52587891e-05 0.00000000e+00]\n",
            " [1.33514404e-05 0.00000000e+00]\n",
            " [2.09808350e-05 0.00000000e+00]\n",
            " [1.71661377e-05 0.00000000e+00]\n",
            " [1.90734863e-05 0.00000000e+00]\n",
            " [1.33514404e-05 0.00000000e+00]\n",
            " [9.53674316e-06 0.00000000e+00]\n",
            " [9.53674316e-06 0.00000000e+00]\n",
            " [2.28881836e-05 0.00000000e+00]\n",
            " [2.28881836e-05 0.00000000e+00]\n",
            " [1.52587891e-05 0.00000000e+00]\n",
            " [1.33514404e-05 0.00000000e+00]\n",
            " [2.09808350e-05 0.00000000e+00]\n",
            " [1.90734863e-05 0.00000000e+00]\n",
            " [2.67028809e-05 0.00000000e+00]\n",
            " [1.71661377e-05 0.00000000e+00]\n",
            " [2.09808350e-05 0.00000000e+00]\n",
            " [9.53674316e-06 0.00000000e+00]\n",
            " [1.33514404e-05 0.00000000e+00]\n",
            " [1.90734863e-06 0.00000000e+00]\n",
            " [2.09808350e-05 0.00000000e+00]\n",
            " [2.28881836e-05 0.00000000e+00]\n",
            " [1.33514404e-05 0.00000000e+00]\n",
            " [2.09808350e-05 0.00000000e+00]\n",
            " [1.33514404e-05 0.00000000e+00]\n",
            " [1.33514404e-05 0.00000000e+00]\n",
            " [1.90734863e-06 0.00000000e+00]\n",
            " [2.09808350e-05 0.00000000e+00]\n",
            " [2.09808350e-05 0.00000000e+00]\n",
            " [2.09808350e-05 0.00000000e+00]\n",
            " [1.33514404e-05 0.00000000e+00]\n",
            " [9.53674316e-06 0.00000000e+00]\n",
            " [1.90734863e-06 0.00000000e+00]\n",
            " [1.52587891e-05 0.00000000e+00]\n",
            " [9.53674316e-06 0.00000000e+00]\n",
            " [1.33514404e-05 0.00000000e+00]\n",
            " [1.33514404e-05 0.00000000e+00]\n",
            " [1.33514404e-05 0.00000000e+00]\n",
            " [1.71661377e-05 0.00000000e+00]\n",
            " [2.28881836e-05 0.00000000e+00]\n",
            " [1.71661377e-05 0.00000000e+00]\n",
            " [0.00000000e+00 0.00000000e+00]\n",
            " [9.53674316e-06 0.00000000e+00]\n",
            " [1.52587891e-05 0.00000000e+00]]\n"
          ]
        }
      ]
    },
    {
      "cell_type": "markdown",
      "source": [
        "As u can see the prediction uncertanities for the test data are consistently 0. This ensures that the model is robust in its predictions."
      ],
      "metadata": {
        "id": "IxoQ64XCJFja"
      }
    },
    {
      "cell_type": "markdown",
      "source": [
        "Creating the reduced dataset and retraining the model on reduced dataset\n",
        "#----------------------------------------------"
      ],
      "metadata": {
        "id": "ppUQ280P_uNC"
      }
    },
    {
      "cell_type": "markdown",
      "source": [
        "Now we reduce the dataset to contain only the important features"
      ],
      "metadata": {
        "id": "5nhDMejt52WN"
      }
    },
    {
      "cell_type": "code",
      "source": [
        "import pandas as pd\n",
        "\n",
        "# Load the dataset\n",
        "file_path = '/content/ADAdata.csv'  # Replace with your actual file path\n",
        "data = pd.read_csv(file_path)\n",
        "\n",
        "# Correct feature lists to match dataset columns\n",
        "features_positive_effect = [\n",
        "    'concave points_se', 'smoothness_se', 'fractal_dimension_mean', 'concave points_mean',\n",
        "    'symmetry_se', 'fractal_dimension_worst', 'compactness_worst', 'symmetry_mean',\n",
        "    'concavity_mean', 'smoothness_worst', 'concavity_worst', 'radius_se', 'radius_worst'\n",
        "]\n",
        "\n",
        "features_negative_effect = [\n",
        "    'fractal_dimension_se', 'compactness_mean', 'concavity_se', 'radius_mean',\n",
        "    'smoothness_mean', 'concave points_worst'\n",
        "]\n",
        "\n",
        "target_label = ['diagnosis']\n",
        "\n",
        "# Combine the features into one list\n",
        "selected_features = features_positive_effect + features_negative_effect + target_label\n",
        "\n",
        "# Verify that all selected features exist in the dataset\n",
        "selected_features = [feature for feature in selected_features if feature in data.columns]\n",
        "\n",
        "# Filter the dataset to include only the selected features\n",
        "reduced_data = data[selected_features]\n",
        "\n",
        "# Save the reduced dataset to a new file (optional)\n",
        "output_file_path = 'ADAdata_reduced.csv'\n",
        "reduced_data.to_csv(output_file_path, index=False)\n",
        "\n",
        "print(f\"Reduced dataset saved to {output_file_path}\")\n"
      ],
      "metadata": {
        "colab": {
          "base_uri": "https://localhost:8080/"
        },
        "id": "nWxcMgCc59YX",
        "outputId": "2b7b4d79-8b10-47ab-cffd-10895909af00"
      },
      "execution_count": null,
      "outputs": [
        {
          "output_type": "stream",
          "name": "stdout",
          "text": [
            "Reduced dataset saved to ADAdata_reduced.csv\n"
          ]
        }
      ]
    },
    {
      "cell_type": "markdown",
      "source": [
        "Now train the new model with the new reduced dataset.Lets observe how this affects the performance of the model."
      ],
      "metadata": {
        "id": "2snNEn34-gx1"
      }
    },
    {
      "cell_type": "code",
      "source": [
        "device = torch.device('cuda' if torch.cuda.is_available() else 'cpu')\n",
        "dataset = pd.read_csv('/content/ADAdata_reduced.csv')\n",
        "# Extract features and labels\n",
        "labels = dataset['diagnosis'].map({'M': 1, 'B': 0})\n",
        "features = dataset.drop(columns=['diagnosis']).values\n",
        "\n",
        "# Now you have the full dataset with 'diagnosis' encoded as 1 and 0\n",
        "#Converting it to the format required for training the model\n",
        "features = torch.tensor(features, dtype=torch.float).to(device)\n",
        "labels = torch.tensor(labels, dtype=torch.long).to(device)\n",
        "\n",
        "# Handle NaN or Inf values\n",
        "if torch.any(torch.isnan(features)) or torch.any(torch.isinf(features)):\n",
        "    print(\"NaN or Inf detected in the input data!\")\n",
        "\n",
        "    # Option 1: Replace NaNs with the mean of each column\n",
        "    features = features.cpu().numpy()\n",
        "    nan_mask = np.isnan(features)\n",
        "\n",
        "    for col in range(features.shape[1]):\n",
        "        features[nan_mask[:, col], col] = np.nanmean(features[:, col])\n",
        "\n",
        "    # Convert back to tensor\n",
        "    features = torch.tensor(features, dtype=torch.float).to(device)\n",
        "\n",
        "# Ensure labels are not empty after cleaning\n",
        "if features.size(0) == 0 or labels.size(0) == 0:\n",
        "    raise ValueError(\"No valid data left after cleaning!\")\n",
        "\n",
        "X_train, X_test, y_train, y_test = train_test_split(features.cpu().numpy(), labels.cpu().numpy(), test_size=0.2, random_state=42)\n",
        "\n",
        "# Convert the splits back to PyTorch tensors\n",
        "X_train = torch.tensor(X_train, dtype=torch.float).to(device)\n",
        "y_train = torch.tensor(y_train, dtype=torch.long).to(device)\n",
        "X_test = torch.tensor(X_test, dtype=torch.float).to(device)\n",
        "y_test = torch.tensor(y_test, dtype=torch.long).to(device)\n",
        "\n",
        "num_epochs = 200\n",
        "for epoch in range(num_epochs):\n",
        "    loss = train()\n",
        "    if epoch % 20 == 0:\n",
        "        train_acc = test(train_data)\n",
        "        test_acc = test(test_data)\n",
        "        print(f'Epoch: {epoch}, Loss: {loss:.4f}, Train Accuracy: {train_acc:.4f}, Test Accuracy: {test_acc:.4f}')\n",
        "\n",
        "# Step 8: Fine-tune the test graph after training\n",
        "fine_tune_test_graph()\n",
        "\n",
        "# Re-evaluate the test accuracy after fine-tuning\n",
        "test_acc = test(test_data)\n",
        "print(f'Final Test Accuracy after fine-tuning: {test_acc:.4f}')\n",
        "\n"
      ],
      "metadata": {
        "colab": {
          "base_uri": "https://localhost:8080/"
        },
        "id": "uWftmcHx6N5_",
        "outputId": "494446a5-ca26-43ab-9349-663ad95bc21b"
      },
      "execution_count": null,
      "outputs": [
        {
          "output_type": "stream",
          "name": "stdout",
          "text": [
            "Epoch: 0, Loss: 0.6656, Train Accuracy: 0.6286, Test Accuracy: 0.6228\n",
            "Epoch: 20, Loss: 0.6602, Train Accuracy: 0.6286, Test Accuracy: 0.6228\n",
            "Epoch: 40, Loss: 0.6586, Train Accuracy: 0.6286, Test Accuracy: 0.6228\n",
            "Epoch: 60, Loss: 0.6595, Train Accuracy: 0.6286, Test Accuracy: 0.6228\n",
            "Epoch: 80, Loss: 0.6596, Train Accuracy: 0.6286, Test Accuracy: 0.6228\n",
            "Epoch: 100, Loss: 0.6596, Train Accuracy: 0.6286, Test Accuracy: 0.6228\n",
            "Epoch: 120, Loss: 0.6592, Train Accuracy: 0.6286, Test Accuracy: 0.6228\n",
            "Epoch: 140, Loss: 0.6589, Train Accuracy: 0.6286, Test Accuracy: 0.6228\n",
            "Epoch: 160, Loss: 0.6595, Train Accuracy: 0.6286, Test Accuracy: 0.6228\n",
            "Epoch: 180, Loss: 0.6587, Train Accuracy: 0.6286, Test Accuracy: 0.6228\n",
            "Fine-tuning completed.\n",
            "Final Test Accuracy after fine-tuning: 0.6228\n"
          ]
        }
      ]
    },
    {
      "cell_type": "markdown",
      "source": [
        "From the performance of the model it can be deduced that our reduced dataset doesnt compromise on the performance of the model and the chosen features are truly relevant."
      ],
      "metadata": {
        "id": "8GtgGyO4_Bd9"
      }
    }
  ]
}